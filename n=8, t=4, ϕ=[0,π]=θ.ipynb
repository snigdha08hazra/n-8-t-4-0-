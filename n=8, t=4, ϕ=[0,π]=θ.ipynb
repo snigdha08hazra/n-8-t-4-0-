{
 "cells": [
  {
   "cell_type": "code",
   "execution_count": 40,
   "id": "4d962886",
   "metadata": {},
   "outputs": [],
   "source": [
    "from qiskit.quantum_info import Statevector, Operator\n",
    "from qiskit import QuantumCircuit, Aer, execute\n",
    "import numpy as np\n",
    "import math\n",
    "import matplotlib.pyplot as pl\n",
    "import random"
   ]
  },
  {
   "cell_type": "code",
   "execution_count": 65,
   "id": "ca8f59c7",
   "metadata": {},
   "outputs": [
    {
     "name": "stdout",
     "output_type": "stream",
     "text": [
      "noi =  6\n",
      "target =  [151. 150. 229. 244.]\n",
      "phi =  [0.7853981633974483, 1.5707963267948966, 2.356194490192345, 3.141592653589793]\n",
      "phi_m =  [45.0, 90.0, 135.0, 180.0]\n",
      "len(phi) =  4\n",
      "e_iphi =  [(0.7071067811865476+0.7071067811865476j), (6.123233995736766e-17+1j), (-0.7071067811865475+0.7071067811865476j), (-1+1.2246467991473532e-16j)]\n",
      "theta_m =  [45.0]\n",
      "e_itheta =  [(0.7071067811865476+0.7071067811865476j)]\n"
     ]
    }
   ],
   "source": [
    "n = 8      #no. of qubits\n",
    "N = 2**n   #dimension of matrix\n",
    "t = 4      #no. of target states\n",
    "length = list(range(n))\n",
    "noi = math.floor(math.sqrt(N/t) * np.pi / 4)   #No of iterations\n",
    "print(\"noi = \", noi)\n",
    "\n",
    "#to set target states\n",
    "target = np.zeros(t)\n",
    "count = 0\n",
    "flag = 0\n",
    "i = 0\n",
    "while(True):\n",
    "    #to generate a random integer for target position\n",
    "    a = random.randint(0,N-1)\n",
    "    \n",
    "    #checking if that number has already been chosen previously as target state\n",
    "    for j in range(count):\n",
    "        if(target[j] == a):\n",
    "            flag = 1  #value is present in the target array\n",
    "            \n",
    "    #to store new value in target array\n",
    "    if(flag == 0):\n",
    "        #to store in count position of target array\n",
    "        target[count] = a\n",
    "        #updating count (position) value\n",
    "        count += 1\n",
    "        #checking for further iteration of i loop\n",
    "        if(count == t):\n",
    "            break\n",
    "print(\"target = \",target)\n",
    "\n",
    "phi = [a*np.pi/180 for a in range(45,181,45)]\n",
    "print(\"phi = \",phi)\n",
    "\n",
    "phi_m = [a*180/np.pi for a in phi]\n",
    "print(\"phi_m = \",phi_m)\n",
    "print(\"len(phi) = \",len(phi))\n",
    "\n",
    "e_iphi = [complex(np.cos(a),np.sin(a)) for a in phi]\n",
    "print(\"e_iphi = \",e_iphi)\n",
    "\n",
    "theta    = [np.pi/4]\n",
    "e_itheta = [complex(np.cos(a),np.sin(a)) for a in theta]\n",
    "theta_m  = [a*180/np.pi for a in theta]\n",
    "print(\"theta_m = \",theta_m)\n",
    "print(\"e_itheta = \",e_itheta)\n",
    "\n",
    "#array to store coherence values after each suboperation in every grover's iteration\n",
    "data = np.zeros((len(phi),noi * 4))   #to store coherence values\n",
    "x_axis = list(range(noi * 4))        #to store iteration number\n",
    "#print(data)"
   ]
  },
  {
   "cell_type": "code",
   "execution_count": 68,
   "id": "e176bd6f",
   "metadata": {},
   "outputs": [
    {
     "name": "stdout",
     "output_type": "stream",
     "text": [
      "======================================== FOR ϕ =  45.0 ========================================\n"
     ]
    },
    {
     "data": {
      "text/plain": [
       "'initialised |ψ0⟩'"
      ]
     },
     "metadata": {},
     "output_type": "display_data"
    },
    {
     "data": {
      "text/latex": [
       "$$ |00000000\\rangle$$"
      ],
      "text/plain": [
       "<IPython.core.display.Latex object>"
      ]
     },
     "metadata": {},
     "output_type": "display_data"
    },
    {
     "name": "stdout",
     "output_type": "stream",
     "text": [
      "coherence of |ψ0⟩ =  0.0\n"
     ]
    },
    {
     "data": {
      "text/plain": [
       "'applied Hadamard to all |ψ1⟩'"
      ]
     },
     "metadata": {},
     "output_type": "display_data"
    },
    {
     "data": {
      "text/latex": [
       "$$\\frac{1}{16} |00000000\\rangle+\\frac{1}{16} |00000001\\rangle+\\frac{1}{16} |00000010\\rangle+\\frac{1}{16} |00000011\\rangle+\\frac{1}{16} |00000100\\rangle+\\frac{1}{16} |00000101\\rangle + \\ldots +\\frac{1}{16} |11111011\\rangle+\\frac{1}{16} |11111100\\rangle+\\frac{1}{16} |11111101\\rangle+\\frac{1}{16} |11111110\\rangle+\\frac{1}{16} |11111111\\rangle$$"
      ],
      "text/plain": [
       "<IPython.core.display.Latex object>"
      ]
     },
     "metadata": {},
     "output_type": "display_data"
    },
    {
     "name": "stdout",
     "output_type": "stream",
     "text": [
      "coherence of |ψ1⟩ =  255.00000000000003\n",
      "-------- 1  ITERATION OF GROVER'S ITERATION--------\n"
     ]
    },
    {
     "data": {
      "text/plain": [
       "'applied O operator to |ψ2⟩'"
      ]
     },
     "metadata": {},
     "output_type": "display_data"
    },
    {
     "data": {
      "text/latex": [
       "$$\\frac{1}{16} |00000000\\rangle+\\frac{1}{16} |00000001\\rangle+\\frac{1}{16} |00000010\\rangle+\\frac{1}{16} |00000011\\rangle+\\frac{1}{16} |00000100\\rangle+\\frac{1}{16} |00000101\\rangle + \\ldots +\\frac{1}{16} |11111011\\rangle+\\frac{1}{16} |11111100\\rangle+\\frac{1}{16} |11111101\\rangle+\\frac{1}{16} |11111110\\rangle+\\frac{1}{16} |11111111\\rangle$$"
      ],
      "text/plain": [
       "<IPython.core.display.Latex object>"
      ]
     },
     "metadata": {},
     "output_type": "display_data"
    },
    {
     "name": "stdout",
     "output_type": "stream",
     "text": [
      "coherence of |ψ2⟩ =  255.00000000000003\n"
     ]
    },
    {
     "data": {
      "text/plain": [
       "'applied Hadamard to all |ψ1⟩'"
      ]
     },
     "metadata": {},
     "output_type": "display_data"
    },
    {
     "data": {
      "text/latex": [
       "$$\\frac{31}{32} |00000000\\rangle+\\frac{1}{32} |00000100\\rangle- \\frac{1}{32} |00001000\\rangle+\\frac{1}{32} |00001100\\rangle+\\frac{1}{64} |00010000\\rangle+\\frac{1}{64} |00010001\\rangle + \\ldots - \\frac{1}{64} |11111011\\rangle+\\frac{1}{64} |11111100\\rangle+\\frac{1}{64} |11111101\\rangle- \\frac{1}{64} |11111110\\rangle+\\frac{1}{64} |11111111\\rangle$$"
      ],
      "text/plain": [
       "<IPython.core.display.Latex object>"
      ]
     },
     "metadata": {},
     "output_type": "display_data"
    },
    {
     "name": "stdout",
     "output_type": "stream",
     "text": [
      "coherence of |ψ1⟩ =  14.503906250000002\n"
     ]
    },
    {
     "data": {
      "text/plain": [
       "'applied P operator to |ψ4⟩'"
      ]
     },
     "metadata": {},
     "output_type": "display_data"
    },
    {
     "data": {
      "text/latex": [
       "$$(0.685009694274 + 0.685009694274 i) |00000000\\rangle- \\frac{1}{32} |00000100\\rangle+\\frac{1}{32} |00001000\\rangle- \\frac{1}{32} |00001100\\rangle- \\frac{1}{64} |00010000\\rangle- \\frac{1}{64} |00010001\\rangle + \\ldots +\\frac{1}{64} |11111011\\rangle- \\frac{1}{64} |11111100\\rangle- \\frac{1}{64} |11111101\\rangle+\\frac{1}{64} |11111110\\rangle- \\frac{1}{64} |11111111\\rangle$$"
      ],
      "text/plain": [
       "<IPython.core.display.Latex object>"
      ]
     },
     "metadata": {},
     "output_type": "display_data"
    },
    {
     "name": "stdout",
     "output_type": "stream",
     "text": [
      "coherence of |ψ4⟩ =  14.503906250000002\n"
     ]
    },
    {
     "data": {
      "text/plain": [
       "'applied Hadamard to all |ψ5⟩'"
      ]
     },
     "metadata": {},
     "output_type": "display_data"
    },
    {
     "data": {
      "text/latex": [
       "$$(0.040859980892 + 0.042813105892 i) |00000000\\rangle+ (0.040859980892 + 0.042813105892 i) |00000001\\rangle+ (0.040859980892 + 0.042813105892 i) |00000010\\rangle+ (0.040859980892 + 0.042813105892 i) |00000011\\rangle+ (0.040859980892 + 0.042813105892 i) |00000100\\rangle+ (0.040859980892 + 0.042813105892 i) |00000101\\rangle + \\ldots + (0.040859980892 + 0.042813105892 i) |11111011\\rangle+ (0.040859980892 + 0.042813105892 i) |11111100\\rangle+ (0.040859980892 + 0.042813105892 i) |11111101\\rangle+ (0.040859980892 + 0.042813105892 i) |11111110\\rangle+ (0.040859980892 + 0.042813105892 i) |11111111\\rangle$$"
      ],
      "text/plain": [
       "<IPython.core.display.Latex object>"
      ]
     },
     "metadata": {},
     "output_type": "display_data"
    },
    {
     "name": "stdout",
     "output_type": "stream",
     "text": [
      "coherence of |ψ5⟩ =  242.32976142717348\n",
      "-------- 2  ITERATION OF GROVER'S ITERATION--------\n"
     ]
    },
    {
     "data": {
      "text/plain": [
       "'applied O operator to |ψ2⟩'"
      ]
     },
     "metadata": {},
     "output_type": "display_data"
    },
    {
     "data": {
      "text/latex": [
       "$$(0.040859980892 + 0.042813105892 i) |00000000\\rangle+ (0.040859980892 + 0.042813105892 i) |00000001\\rangle+ (0.040859980892 + 0.042813105892 i) |00000010\\rangle+ (0.040859980892 + 0.042813105892 i) |00000011\\rangle+ (0.040859980892 + 0.042813105892 i) |00000100\\rangle+ (0.040859980892 + 0.042813105892 i) |00000101\\rangle + \\ldots + (0.040859980892 + 0.042813105892 i) |11111011\\rangle+ (0.040859980892 + 0.042813105892 i) |11111100\\rangle+ (0.040859980892 + 0.042813105892 i) |11111101\\rangle+ (0.040859980892 + 0.042813105892 i) |11111110\\rangle+ (0.040859980892 + 0.042813105892 i) |11111111\\rangle$$"
      ],
      "text/plain": [
       "<IPython.core.display.Latex object>"
      ]
     },
     "metadata": {},
     "output_type": "display_data"
    },
    {
     "name": "stdout",
     "output_type": "stream",
     "text": [
      "coherence of |ψ2⟩ =  242.32976142717348\n"
     ]
    },
    {
     "data": {
      "text/plain": [
       "'applied Hadamard to all |ψ1⟩'"
      ]
     },
     "metadata": {},
     "output_type": "display_data"
    },
    {
     "data": {
      "text/latex": [
       "$$(0.602079703828 + 0.663603141328 i) |00000000\\rangle+ (0.051679990446 + 0.021406552946 i) |00000100\\rangle+ (-0.051679990446 - 0.021406552946 i) |00001000\\rangle+ (0.051679990446 + 0.021406552946 i) |00001100\\rangle+ (0.025839995223 + 0.010703276473 i) |00010000\\rangle+ (0.025839995223 + 0.010703276473 i) |00010001\\rangle + \\ldots + (-0.025839995223 - 0.010703276473 i) |11111011\\rangle+ (0.025839995223 + 0.010703276473 i) |11111100\\rangle+ (0.025839995223 + 0.010703276473 i) |11111101\\rangle+ (-0.025839995223 - 0.010703276473 i) |11111110\\rangle+ (0.025839995223 + 0.010703276473 i) |11111111\\rangle$$"
      ],
      "text/plain": [
       "<IPython.core.display.Latex object>"
      ]
     },
     "metadata": {},
     "output_type": "display_data"
    },
    {
     "name": "stdout",
     "output_type": "stream",
     "text": [
      "coherence of |ψ1⟩ =  37.565856143016674\n"
     ]
    },
    {
     "data": {
      "text/plain": [
       "'applied P operator to |ψ4⟩'"
      ]
     },
     "metadata": {},
     "output_type": "display_data"
    },
    {
     "data": {
      "text/latex": [
       "$$(-0.043503639858 + 0.894972922642 i) |00000000\\rangle+ (-0.051679990446 - 0.021406552946 i) |00000100\\rangle+ (0.051679990446 + 0.021406552946 i) |00001000\\rangle+ (-0.051679990446 - 0.021406552946 i) |00001100\\rangle+ (-0.025839995223 - 0.010703276473 i) |00010000\\rangle+ (-0.025839995223 - 0.010703276473 i) |00010001\\rangle + \\ldots + (0.025839995223 + 0.010703276473 i) |11111011\\rangle+ (-0.025839995223 - 0.010703276473 i) |11111100\\rangle+ (-0.025839995223 - 0.010703276473 i) |11111101\\rangle+ (0.025839995223 + 0.010703276473 i) |11111110\\rangle+ (-0.025839995223 - 0.010703276473 i) |11111111\\rangle$$"
      ],
      "text/plain": [
       "<IPython.core.display.Latex object>"
      ]
     },
     "metadata": {},
     "output_type": "display_data"
    },
    {
     "name": "stdout",
     "output_type": "stream",
     "text": [
      "coherence of |ψ4⟩ =  37.565856143016674\n"
     ]
    },
    {
     "data": {
      "text/plain": [
       "'applied Hadamard to all |ψ5⟩'"
      ]
     },
     "metadata": {},
     "output_type": "display_data"
    },
    {
     "data": {
      "text/latex": [
       "$$(-0.005948976894 + 0.054597898106 i) |00000000\\rangle+ (-0.005948976894 + 0.054597898106 i) |00000001\\rangle+ (-0.005948976894 + 0.054597898106 i) |00000010\\rangle+ (-0.005948976894 + 0.054597898106 i) |00000011\\rangle+ (-0.005948976894 + 0.054597898106 i) |00000100\\rangle+ (-0.005948976894 + 0.054597898106 i) |00000101\\rangle + \\ldots + (-0.005948976894 + 0.054597898106 i) |11111011\\rangle+ (-0.005948976894 + 0.054597898106 i) |11111100\\rangle+ (-0.005948976894 + 0.054597898106 i) |11111101\\rangle+ (-0.005948976894 + 0.054597898106 i) |11111110\\rangle+ (-0.005948976894 + 0.054597898106 i) |11111111\\rangle$$"
      ],
      "text/plain": [
       "<IPython.core.display.Latex object>"
      ]
     },
     "metadata": {},
     "output_type": "display_data"
    },
    {
     "name": "stdout",
     "output_type": "stream",
     "text": [
      "coherence of |ψ5⟩ =  218.62255959772784\n",
      "-------- 3  ITERATION OF GROVER'S ITERATION--------\n"
     ]
    },
    {
     "data": {
      "text/plain": [
       "'applied O operator to |ψ2⟩'"
      ]
     },
     "metadata": {},
     "output_type": "display_data"
    },
    {
     "data": {
      "text/latex": [
       "$$(-0.005948976894 + 0.054597898106 i) |00000000\\rangle+ (-0.005948976894 + 0.054597898106 i) |00000001\\rangle+ (-0.005948976894 + 0.054597898106 i) |00000010\\rangle+ (-0.005948976894 + 0.054597898106 i) |00000011\\rangle+ (-0.005948976894 + 0.054597898106 i) |00000100\\rangle+ (-0.005948976894 + 0.054597898106 i) |00000101\\rangle + \\ldots + (-0.005948976894 + 0.054597898106 i) |11111011\\rangle+ (-0.005948976894 + 0.054597898106 i) |11111100\\rangle+ (-0.005948976894 + 0.054597898106 i) |11111101\\rangle+ (-0.005948976894 + 0.054597898106 i) |11111110\\rangle+ (-0.005948976894 + 0.054597898106 i) |11111111\\rangle$$"
      ],
      "text/plain": [
       "<IPython.core.display.Latex object>"
      ]
     },
     "metadata": {},
     "output_type": "display_data"
    },
    {
     "name": "stdout",
     "output_type": "stream",
     "text": [
      "coherence of |ψ2⟩ =  218.62255959772784\n"
     ]
    },
    {
     "data": {
      "text/plain": [
       "'applied Hadamard to all |ψ1⟩'"
      ]
     },
     "metadata": {},
     "output_type": "display_data"
    },
    {
     "data": {
      "text/latex": [
       "$$(-0.143889132303 + 0.824860867697 i) |00000000\\rangle+ (0.048705501999 + 0.048705501999 i) |00000100\\rangle+ (-0.048705501999 - 0.048705501999 i) |00001000\\rangle+ (0.048705501999 + 0.048705501999 i) |00001100\\rangle+ (0.024352751 + 0.024352751 i) |00010000\\rangle+ (0.024352751 + 0.024352751 i) |00010001\\rangle + \\ldots + (-0.024352751 - 0.024352751 i) |11111011\\rangle+ (0.024352751 + 0.024352751 i) |11111100\\rangle+ (0.024352751 + 0.024352751 i) |11111101\\rangle+ (-0.024352751 - 0.024352751 i) |11111110\\rangle+ (0.024352751 + 0.024352751 i) |11111111\\rangle$$"
      ],
      "text/plain": [
       "<IPython.core.display.Latex object>"
      ]
     },
     "metadata": {},
     "output_type": "display_data"
    },
    {
     "name": "stdout",
     "output_type": "stream",
     "text": [
      "coherence of |ψ1⟩ =  53.477907818254245\n"
     ]
    },
    {
     "data": {
      "text/plain": [
       "'applied P operator to |ψ4⟩'"
      ]
     },
     "metadata": {},
     "output_type": "display_data"
    },
    {
     "data": {
      "text/latex": [
       "$$(-0.685009694274 + 0.481519731893 i) |00000000\\rangle+ (-0.048705501999 - 0.048705501999 i) |00000100\\rangle+ (0.048705501999 + 0.048705501999 i) |00001000\\rangle+ (-0.048705501999 - 0.048705501999 i) |00001100\\rangle+ (-0.024352751 - 0.024352751 i) |00010000\\rangle+ (-0.024352751 - 0.024352751 i) |00010001\\rangle + \\ldots + (0.024352751 + 0.024352751 i) |11111011\\rangle+ (-0.024352751 - 0.024352751 i) |11111100\\rangle+ (-0.024352751 - 0.024352751 i) |11111101\\rangle+ (0.024352751 + 0.024352751 i) |11111110\\rangle+ (-0.024352751 - 0.024352751 i) |11111111\\rangle$$"
      ],
      "text/plain": [
       "<IPython.core.display.Latex object>"
      ]
     },
     "metadata": {},
     "output_type": "display_data"
    },
    {
     "name": "stdout",
     "output_type": "stream",
     "text": [
      "coherence of |ψ4⟩ =  53.477907818254245\n"
     ]
    },
    {
     "data": {
      "text/plain": [
       "'applied Hadamard to all |ψ5⟩'"
      ]
     },
     "metadata": {},
     "output_type": "display_data"
    },
    {
     "data": {
      "text/latex": [
       "$$(-0.045857199767 + 0.027050889368 i) |00000000\\rangle+ (-0.045857199767 + 0.027050889368 i) |00000001\\rangle+ (-0.045857199767 + 0.027050889368 i) |00000010\\rangle+ (-0.045857199767 + 0.027050889368 i) |00000011\\rangle+ (-0.045857199767 + 0.027050889368 i) |00000100\\rangle+ (-0.045857199767 + 0.027050889368 i) |00000101\\rangle + \\ldots + (-0.045857199767 + 0.027050889368 i) |11111011\\rangle+ (-0.045857199767 + 0.027050889368 i) |11111100\\rangle+ (-0.045857199767 + 0.027050889368 i) |11111101\\rangle+ (-0.045857199767 + 0.027050889368 i) |11111110\\rangle+ (-0.045857199767 + 0.027050889368 i) |11111111\\rangle$$"
      ],
      "text/plain": [
       "<IPython.core.display.Latex object>"
      ]
     },
     "metadata": {},
     "output_type": "display_data"
    },
    {
     "name": "stdout",
     "output_type": "stream",
     "text": [
      "coherence of |ψ5⟩ =  208.8374725824187\n",
      "-------- 4  ITERATION OF GROVER'S ITERATION--------\n"
     ]
    },
    {
     "data": {
      "text/plain": [
       "'applied O operator to |ψ2⟩'"
      ]
     },
     "metadata": {},
     "output_type": "display_data"
    },
    {
     "data": {
      "text/latex": [
       "$$(-0.045857199767 + 0.027050889368 i) |00000000\\rangle+ (-0.045857199767 + 0.027050889368 i) |00000001\\rangle+ (-0.045857199767 + 0.027050889368 i) |00000010\\rangle+ (-0.045857199767 + 0.027050889368 i) |00000011\\rangle+ (-0.045857199767 + 0.027050889368 i) |00000100\\rangle+ (-0.045857199767 + 0.027050889368 i) |00000101\\rangle + \\ldots + (-0.045857199767 + 0.027050889368 i) |11111011\\rangle+ (-0.045857199767 + 0.027050889368 i) |11111100\\rangle+ (-0.045857199767 + 0.027050889368 i) |11111101\\rangle+ (-0.045857199767 + 0.027050889368 i) |11111110\\rangle+ (-0.045857199767 + 0.027050889368 i) |11111111\\rangle$$"
      ],
      "text/plain": [
       "<IPython.core.display.Latex object>"
      ]
     },
     "metadata": {},
     "output_type": "display_data"
    },
    {
     "name": "stdout",
     "output_type": "stream",
     "text": [
      "coherence of |ψ2⟩ =  208.8374725824187\n"
     ]
    },
    {
     "data": {
      "text/plain": [
       "'applied Hadamard to all |ψ1⟩'"
      ]
     },
     "metadata": {},
     "output_type": "display_data"
    },
    {
     "data": {
      "text/latex": [
       "$$(-0.759492098389 + 0.370583283211 i) |00000000\\rangle+ (0.025776902116 + 0.062230946683 i) |00000100\\rangle+ (-0.025776902116 - 0.062230946683 i) |00001000\\rangle+ (0.025776902116 + 0.062230946683 i) |00001100\\rangle+ (0.012888451058 + 0.031115473342 i) |00010000\\rangle+ (0.012888451058 + 0.031115473342 i) |00010001\\rangle + \\ldots + (-0.012888451058 - 0.031115473342 i) |11111011\\rangle+ (0.012888451058 + 0.031115473342 i) |11111100\\rangle+ (0.012888451058 + 0.031115473342 i) |11111101\\rangle+ (-0.012888451058 - 0.031115473342 i) |11111110\\rangle+ (0.012888451058 + 0.031115473342 i) |11111111\\rangle$$"
      ],
      "text/plain": [
       "<IPython.core.display.Latex object>"
      ]
     },
     "metadata": {},
     "output_type": "display_data"
    },
    {
     "name": "stdout",
     "output_type": "stream",
     "text": [
      "coherence of |ψ1⟩ =  51.47724097038198\n"
     ]
    },
    {
     "data": {
      "text/plain": [
       "'applied P operator to |ψ4⟩'"
      ]
     },
     "metadata": {},
     "output_type": "display_data"
    },
    {
     "data": {
      "text/latex": [
       "$$(-0.799083965581 - 0.275000060476 i) |00000000\\rangle+ (-0.025776902116 - 0.062230946683 i) |00000100\\rangle+ (0.025776902116 + 0.062230946683 i) |00001000\\rangle+ (-0.025776902116 - 0.062230946683 i) |00001100\\rangle+ (-0.012888451058 - 0.031115473342 i) |00010000\\rangle+ (-0.012888451058 - 0.031115473342 i) |00010001\\rangle + \\ldots + (0.012888451058 + 0.031115473342 i) |11111011\\rangle+ (-0.012888451058 - 0.031115473342 i) |11111100\\rangle+ (-0.012888451058 - 0.031115473342 i) |11111101\\rangle+ (0.012888451058 + 0.031115473342 i) |11111110\\rangle+ (-0.012888451058 - 0.031115473342 i) |11111111\\rangle$$"
      ],
      "text/plain": [
       "<IPython.core.display.Latex object>"
      ]
     },
     "metadata": {},
     "output_type": "display_data"
    },
    {
     "name": "stdout",
     "output_type": "stream",
     "text": [
      "coherence of |ψ4⟩ =  51.47724097038198\n"
     ]
    },
    {
     "data": {
      "text/plain": [
       "'applied Hadamard to all |ψ5⟩'"
      ]
     },
     "metadata": {},
     "output_type": "display_data"
    },
    {
     "data": {
      "text/latex": [
       "$$(-0.051553804231 - 0.021076937947 i) |00000000\\rangle+ (-0.051553804231 - 0.021076937947 i) |00000001\\rangle+ (-0.051553804231 - 0.021076937947 i) |00000010\\rangle+ (-0.051553804231 - 0.021076937947 i) |00000011\\rangle+ (-0.051553804231 - 0.021076937947 i) |00000100\\rangle+ (-0.051553804231 - 0.021076937947 i) |00000101\\rangle + \\ldots + (-0.051553804231 - 0.021076937947 i) |11111011\\rangle+ (-0.051553804231 - 0.021076937947 i) |11111100\\rangle+ (-0.051553804231 - 0.021076937947 i) |11111101\\rangle+ (-0.051553804231 - 0.021076937947 i) |11111110\\rangle+ (-0.051553804231 - 0.021076937947 i) |11111111\\rangle$$"
      ],
      "text/plain": [
       "<IPython.core.display.Latex object>"
      ]
     },
     "metadata": {},
     "output_type": "display_data"
    },
    {
     "name": "stdout",
     "output_type": "stream",
     "text": [
      "coherence of |ψ5⟩ =  223.0946089683672\n",
      "-------- 5  ITERATION OF GROVER'S ITERATION--------\n"
     ]
    },
    {
     "data": {
      "text/plain": [
       "'applied O operator to |ψ2⟩'"
      ]
     },
     "metadata": {},
     "output_type": "display_data"
    },
    {
     "data": {
      "text/latex": [
       "$$(-0.051553804231 - 0.021076937947 i) |00000000\\rangle+ (-0.051553804231 - 0.021076937947 i) |00000001\\rangle+ (-0.051553804231 - 0.021076937947 i) |00000010\\rangle+ (-0.051553804231 - 0.021076937947 i) |00000011\\rangle+ (-0.051553804231 - 0.021076937947 i) |00000100\\rangle+ (-0.051553804231 - 0.021076937947 i) |00000101\\rangle + \\ldots + (-0.051553804231 - 0.021076937947 i) |11111011\\rangle+ (-0.051553804231 - 0.021076937947 i) |11111100\\rangle+ (-0.051553804231 - 0.021076937947 i) |11111101\\rangle+ (-0.051553804231 - 0.021076937947 i) |11111110\\rangle+ (-0.051553804231 - 0.021076937947 i) |11111111\\rangle$$"
      ],
      "text/plain": [
       "<IPython.core.display.Latex object>"
      ]
     },
     "metadata": {},
     "output_type": "display_data"
    },
    {
     "name": "stdout",
     "output_type": "stream",
     "text": [
      "coherence of |ψ2⟩ =  223.0946089683672\n"
     ]
    },
    {
     "data": {
      "text/plain": [
       "'applied Hadamard to all |ψ1⟩'"
      ]
     },
     "metadata": {},
     "output_type": "display_data"
    },
    {
     "data": {
      "text/latex": [
       "$$(-0.824860867697 - 0.388923484869 i) |00000000\\rangle+0.05169247771 i |00000100\\rangle- 0.05169247771 i |00001000\\rangle+0.05169247771 i |00001100\\rangle+0.025846238855 i |00010000\\rangle+0.025846238855 i |00010001\\rangle + \\ldots - 0.025846238855 i |11111011\\rangle+0.025846238855 i |11111100\\rangle+0.025846238855 i |11111101\\rangle- 0.025846238855 i |11111110\\rangle+0.025846238855 i |11111111\\rangle$$"
      ],
      "text/plain": [
       "<IPython.core.display.Latex object>"
      ]
     },
     "metadata": {},
     "output_type": "display_data"
    },
    {
     "name": "stdout",
     "output_type": "stream",
     "text": [
      "coherence of |ψ1⟩ =  32.90427367539692\n"
     ]
    },
    {
     "data": {
      "text/plain": [
       "'applied P operator to |ψ4⟩'"
      ]
     },
     "metadata": {},
     "output_type": "display_data"
    },
    {
     "data": {
      "text/latex": [
       "$$(-0.30825427957 - 0.858275146597 i) |00000000\\rangle- 0.05169247771 i |00000100\\rangle+0.05169247771 i |00001000\\rangle- 0.05169247771 i |00001100\\rangle- 0.025846238855 i |00010000\\rangle- 0.025846238855 i |00010001\\rangle + \\ldots +0.025846238855 i |11111011\\rangle- 0.025846238855 i |11111100\\rangle- 0.025846238855 i |11111101\\rangle+0.025846238855 i |11111110\\rangle- 0.025846238855 i |11111111\\rangle$$"
      ],
      "text/plain": [
       "<IPython.core.display.Latex object>"
      ]
     },
     "metadata": {},
     "output_type": "display_data"
    },
    {
     "name": "stdout",
     "output_type": "stream",
     "text": [
      "coherence of |ψ4⟩ =  32.90427367539692\n"
     ]
    },
    {
     "data": {
      "text/plain": [
       "'applied Hadamard to all |ψ5⟩'"
      ]
     },
     "metadata": {},
     "output_type": "display_data"
    },
    {
     "data": {
      "text/latex": [
       "$$(-0.019265892473 - 0.056872976519 i) |00000000\\rangle+ (-0.019265892473 - 0.056872976519 i) |00000001\\rangle+ (-0.019265892473 - 0.056872976519 i) |00000010\\rangle+ (-0.019265892473 - 0.056872976519 i) |00000011\\rangle+ (-0.019265892473 - 0.056872976519 i) |00000100\\rangle+ (-0.019265892473 - 0.056872976519 i) |00000101\\rangle + \\ldots + (-0.019265892473 - 0.056872976519 i) |11111011\\rangle+ (-0.019265892473 - 0.056872976519 i) |11111100\\rangle+ (-0.019265892473 - 0.056872976519 i) |11111101\\rangle+ (-0.019265892473 - 0.056872976519 i) |11111110\\rangle+ (-0.019265892473 - 0.056872976519 i) |11111111\\rangle$$"
      ],
      "text/plain": [
       "<IPython.core.display.Latex object>"
      ]
     },
     "metadata": {},
     "output_type": "display_data"
    },
    {
     "name": "stdout",
     "output_type": "stream",
     "text": [
      "coherence of |ψ5⟩ =  246.63762887425654\n",
      "-------- 6  ITERATION OF GROVER'S ITERATION--------\n"
     ]
    },
    {
     "data": {
      "text/plain": [
       "'applied O operator to |ψ2⟩'"
      ]
     },
     "metadata": {},
     "output_type": "display_data"
    },
    {
     "data": {
      "text/latex": [
       "$$(-0.019265892473 - 0.056872976519 i) |00000000\\rangle+ (-0.019265892473 - 0.056872976519 i) |00000001\\rangle+ (-0.019265892473 - 0.056872976519 i) |00000010\\rangle+ (-0.019265892473 - 0.056872976519 i) |00000011\\rangle+ (-0.019265892473 - 0.056872976519 i) |00000100\\rangle+ (-0.019265892473 - 0.056872976519 i) |00000101\\rangle + \\ldots + (-0.019265892473 - 0.056872976519 i) |11111011\\rangle+ (-0.019265892473 - 0.056872976519 i) |11111100\\rangle+ (-0.019265892473 - 0.056872976519 i) |11111101\\rangle+ (-0.019265892473 - 0.056872976519 i) |11111110\\rangle+ (-0.019265892473 - 0.056872976519 i) |11111111\\rangle$$"
      ],
      "text/plain": [
       "<IPython.core.display.Latex object>"
      ]
     },
     "metadata": {},
     "output_type": "display_data"
    },
    {
     "name": "stdout",
     "output_type": "stream",
     "text": [
      "coherence of |ψ2⟩ =  246.63762887425654\n"
     ]
    },
    {
     "data": {
      "text/plain": [
       "'applied Hadamard to all |ψ1⟩'"
      ]
     },
     "metadata": {},
     "output_type": "display_data"
    },
    {
     "data": {
      "text/latex": [
       "$$(-0.298621333334 - 0.933223613757 i) |00000000\\rangle+ (-0.009632946237 + 0.02325598945 i) |00000100\\rangle+ (0.009632946237 - 0.02325598945 i) |00001000\\rangle+ (-0.009632946237 + 0.02325598945 i) |00001100\\rangle+ (-0.004816473118 + 0.011627994725 i) |00010000\\rangle+ (-0.004816473118 + 0.011627994725 i) |00010001\\rangle + \\ldots + (0.004816473118 - 0.011627994725 i) |11111011\\rangle+ (-0.004816473118 + 0.011627994725 i) |11111100\\rangle+ (-0.004816473118 + 0.011627994725 i) |11111101\\rangle+ (0.004816473118 - 0.011627994725 i) |11111110\\rangle+ (-0.004816473118 + 0.011627994725 i) |11111111\\rangle$$"
      ],
      "text/plain": [
       "<IPython.core.display.Latex object>"
      ]
     },
     "metadata": {},
     "output_type": "display_data"
    },
    {
     "name": "stdout",
     "output_type": "stream",
     "text": [
      "coherence of |ψ1⟩ =  10.364901044879232\n"
     ]
    },
    {
     "data": {
      "text/plain": [
       "'applied P operator to |ψ4⟩'"
      ]
     },
     "metadata": {},
     "output_type": "display_data"
    },
    {
     "data": {
      "text/latex": [
       "$$(0.448731575843 - 0.871045915458 i) |00000000\\rangle+ (0.009632946237 - 0.02325598945 i) |00000100\\rangle+ (-0.009632946237 + 0.02325598945 i) |00001000\\rangle+ (0.009632946237 - 0.02325598945 i) |00001100\\rangle+ (0.004816473118 - 0.011627994725 i) |00010000\\rangle+ (0.004816473118 - 0.011627994725 i) |00010001\\rangle + \\ldots + (-0.004816473118 + 0.011627994725 i) |11111011\\rangle+ (0.004816473118 - 0.011627994725 i) |11111100\\rangle+ (0.004816473118 - 0.011627994725 i) |11111101\\rangle+ (-0.004816473118 + 0.011627994725 i) |11111110\\rangle+ (0.004816473118 - 0.011627994725 i) |11111111\\rangle$$"
      ],
      "text/plain": [
       "<IPython.core.display.Latex object>"
      ]
     },
     "metadata": {},
     "output_type": "display_data"
    },
    {
     "name": "stdout",
     "output_type": "stream",
     "text": [
      "coherence of |ψ4⟩ =  10.364901044879232\n"
     ]
    },
    {
     "data": {
      "text/plain": [
       "'applied Hadamard to all |ψ5⟩'"
      ]
     },
     "metadata": {},
     "output_type": "display_data"
    },
    {
     "data": {
      "text/latex": [
       "$$(0.02864778263 - 0.055893869057 i) |00000000\\rangle+ (0.02864778263 - 0.055893869057 i) |00000001\\rangle+ (0.02864778263 - 0.055893869057 i) |00000010\\rangle+ (0.02864778263 - 0.055893869057 i) |00000011\\rangle+ (0.02864778263 - 0.055893869057 i) |00000100\\rangle+ (0.02864778263 - 0.055893869057 i) |00000101\\rangle + \\ldots + (0.02864778263 - 0.055893869057 i) |11111011\\rangle+ (0.02864778263 - 0.055893869057 i) |11111100\\rangle+ (0.02864778263 - 0.055893869057 i) |11111101\\rangle+ (0.02864778263 - 0.055893869057 i) |11111110\\rangle+ (0.02864778263 - 0.055893869057 i) |11111111\\rangle$$"
      ],
      "text/plain": [
       "<IPython.core.display.Latex object>"
      ]
     },
     "metadata": {},
     "output_type": "display_data"
    },
    {
     "name": "stdout",
     "output_type": "stream",
     "text": [
      "coherence of |ψ5⟩ =  254.4006308980672\n",
      "======================================== FOR ϕ =  90.0 ========================================\n"
     ]
    },
    {
     "data": {
      "text/plain": [
       "'initialised |ψ0⟩'"
      ]
     },
     "metadata": {},
     "output_type": "display_data"
    },
    {
     "data": {
      "text/latex": [
       "$$ |00000000\\rangle$$"
      ],
      "text/plain": [
       "<IPython.core.display.Latex object>"
      ]
     },
     "metadata": {},
     "output_type": "display_data"
    },
    {
     "name": "stdout",
     "output_type": "stream",
     "text": [
      "coherence of |ψ0⟩ =  0.0\n"
     ]
    },
    {
     "data": {
      "text/plain": [
       "'applied Hadamard to all |ψ1⟩'"
      ]
     },
     "metadata": {},
     "output_type": "display_data"
    },
    {
     "data": {
      "text/latex": [
       "$$\\frac{1}{16} |00000000\\rangle+\\frac{1}{16} |00000001\\rangle+\\frac{1}{16} |00000010\\rangle+\\frac{1}{16} |00000011\\rangle+\\frac{1}{16} |00000100\\rangle+\\frac{1}{16} |00000101\\rangle + \\ldots +\\frac{1}{16} |11111011\\rangle+\\frac{1}{16} |11111100\\rangle+\\frac{1}{16} |11111101\\rangle+\\frac{1}{16} |11111110\\rangle+\\frac{1}{16} |11111111\\rangle$$"
      ],
      "text/plain": [
       "<IPython.core.display.Latex object>"
      ]
     },
     "metadata": {},
     "output_type": "display_data"
    },
    {
     "name": "stdout",
     "output_type": "stream",
     "text": [
      "coherence of |ψ1⟩ =  255.00000000000003\n",
      "-------- 1  ITERATION OF GROVER'S ITERATION--------\n"
     ]
    },
    {
     "data": {
      "text/plain": [
       "'applied O operator to |ψ2⟩'"
      ]
     },
     "metadata": {},
     "output_type": "display_data"
    },
    {
     "data": {
      "text/latex": [
       "$$\\frac{1}{16} |00000000\\rangle+\\frac{1}{16} |00000001\\rangle+\\frac{1}{16} |00000010\\rangle+\\frac{1}{16} |00000011\\rangle+\\frac{1}{16} |00000100\\rangle+\\frac{1}{16} |00000101\\rangle + \\ldots +\\frac{1}{16} |11111011\\rangle+\\frac{1}{16} |11111100\\rangle+\\frac{1}{16} |11111101\\rangle+\\frac{1}{16} |11111110\\rangle+\\frac{1}{16} |11111111\\rangle$$"
      ],
      "text/plain": [
       "<IPython.core.display.Latex object>"
      ]
     },
     "metadata": {},
     "output_type": "display_data"
    },
    {
     "name": "stdout",
     "output_type": "stream",
     "text": [
      "coherence of |ψ2⟩ =  255.00000000000003\n"
     ]
    },
    {
     "data": {
      "text/plain": [
       "'applied Hadamard to all |ψ1⟩'"
      ]
     },
     "metadata": {},
     "output_type": "display_data"
    },
    {
     "data": {
      "text/latex": [
       "$$(0.969282408964 - 0.00404404758 i) |00000000\\rangle+ (0.030717591036 + 0.00404404758 i) |00000100\\rangle+ (-0.030717591036 - 0.00404404758 i) |00001000\\rangle+ (0.030717591036 + 0.00404404758 i) |00001100\\rangle+ (0.015358795518 + 0.00202202379 i) |00010000\\rangle+ (0.015358795518 + 0.00202202379 i) |00010001\\rangle + \\ldots + (-0.015358795518 - 0.00202202379 i) |11111011\\rangle+ (0.015358795518 + 0.00202202379 i) |11111100\\rangle+ (0.015358795518 + 0.00202202379 i) |11111101\\rangle+ (-0.015358795518 - 0.00202202379 i) |11111110\\rangle+ (0.015358795518 + 0.00202202379 i) |11111111\\rangle$$"
      ],
      "text/plain": [
       "<IPython.core.display.Latex object>"
      ]
     },
     "metadata": {},
     "output_type": "display_data"
    },
    {
     "name": "stdout",
     "output_type": "stream",
     "text": [
      "coherence of |ψ1⟩ =  14.308773503804188\n"
     ]
    },
    {
     "data": {
      "text/plain": [
       "'applied P operator to |ψ4⟩'"
      ]
     },
     "metadata": {},
     "output_type": "display_data"
    },
    {
     "data": {
      "text/latex": [
       "$$(0.00404404758 + 0.969282408964 i) |00000000\\rangle+ (-0.030717591036 - 0.00404404758 i) |00000100\\rangle+ (0.030717591036 + 0.00404404758 i) |00001000\\rangle+ (-0.030717591036 - 0.00404404758 i) |00001100\\rangle+ (-0.015358795518 - 0.00202202379 i) |00010000\\rangle+ (-0.015358795518 - 0.00202202379 i) |00010001\\rangle + \\ldots + (0.015358795518 + 0.00202202379 i) |11111011\\rangle+ (-0.015358795518 - 0.00202202379 i) |11111100\\rangle+ (-0.015358795518 - 0.00202202379 i) |11111101\\rangle+ (0.015358795518 + 0.00202202379 i) |11111110\\rangle+ (-0.015358795518 - 0.00202202379 i) |11111111\\rangle$$"
      ],
      "text/plain": [
       "<IPython.core.display.Latex object>"
      ]
     },
     "metadata": {},
     "output_type": "display_data"
    },
    {
     "name": "stdout",
     "output_type": "stream",
     "text": [
      "coherence of |ψ4⟩ =  14.308773503804188\n"
     ]
    },
    {
     "data": {
      "text/plain": [
       "'applied Hadamard to all |ψ5⟩'"
      ]
     },
     "metadata": {},
     "output_type": "display_data"
    },
    {
     "data": {
      "text/latex": [
       "$$(-0.001667096466 + 0.060327397587 i) |00000000\\rangle+ (-0.001667096466 + 0.060327397587 i) |00000001\\rangle+ (-0.001667096466 + 0.060327397587 i) |00000010\\rangle+ (-0.001667096466 + 0.060327397587 i) |00000011\\rangle+ (-0.001667096466 + 0.060327397587 i) |00000100\\rangle+ (-0.001667096466 + 0.060327397587 i) |00000101\\rangle + \\ldots + (-0.001667096466 + 0.060327397587 i) |11111011\\rangle+ (-0.001667096466 + 0.060327397587 i) |11111100\\rangle+ (-0.001667096466 + 0.060327397587 i) |11111101\\rangle+ (-0.001667096466 + 0.060327397587 i) |11111110\\rangle+ (-0.001667096466 + 0.060327397587 i) |11111111\\rangle$$"
      ],
      "text/plain": [
       "<IPython.core.display.Latex object>"
      ]
     },
     "metadata": {},
     "output_type": "display_data"
    },
    {
     "name": "stdout",
     "output_type": "stream",
     "text": [
      "coherence of |ψ5⟩ =  248.0595728697178\n",
      "-------- 2  ITERATION OF GROVER'S ITERATION--------\n"
     ]
    },
    {
     "data": {
      "text/plain": [
       "'applied O operator to |ψ2⟩'"
      ]
     },
     "metadata": {},
     "output_type": "display_data"
    },
    {
     "data": {
      "text/latex": [
       "$$(-0.001667096466 + 0.060327397587 i) |00000000\\rangle+ (-0.001667096466 + 0.060327397587 i) |00000001\\rangle+ (-0.001667096466 + 0.060327397587 i) |00000010\\rangle+ (-0.001667096466 + 0.060327397587 i) |00000011\\rangle+ (-0.001667096466 + 0.060327397587 i) |00000100\\rangle+ (-0.001667096466 + 0.060327397587 i) |00000101\\rangle + \\ldots + (-0.001667096466 + 0.060327397587 i) |11111011\\rangle+ (-0.001667096466 + 0.060327397587 i) |11111100\\rangle+ (-0.001667096466 + 0.060327397587 i) |11111101\\rangle+ (-0.001667096466 + 0.060327397587 i) |11111110\\rangle+ (-0.001667096466 + 0.060327397587 i) |11111111\\rangle$$"
      ],
      "text/plain": [
       "<IPython.core.display.Latex object>"
      ]
     },
     "metadata": {},
     "output_type": "display_data"
    },
    {
     "name": "stdout",
     "output_type": "stream",
     "text": [
      "coherence of |ψ2⟩ =  248.0595728697178\n"
     ]
    },
    {
     "data": {
      "text/plain": [
       "'applied Hadamard to all |ψ1⟩'"
      ]
     },
     "metadata": {},
     "output_type": "display_data"
    },
    {
     "data": {
      "text/latex": [
       "$$(-0.050574964567 + 0.923839885647 i) |00000000\\rangle+ (0.023901421111 + 0.041398475738 i) |00000100\\rangle+ (-0.023901421111 - 0.041398475738 i) |00001000\\rangle+ (0.023901421111 + 0.041398475738 i) |00001100\\rangle+ (0.011950710556 + 0.020699237869 i) |00010000\\rangle+ (0.011950710556 + 0.020699237869 i) |00010001\\rangle + \\ldots + (-0.011950710556 - 0.020699237869 i) |11111011\\rangle+ (0.011950710556 + 0.020699237869 i) |11111100\\rangle+ (0.011950710556 + 0.020699237869 i) |11111101\\rangle+ (-0.011950710556 - 0.020699237869 i) |11111110\\rangle+ (0.011950710556 + 0.020699237869 i) |11111111\\rangle$$"
      ],
      "text/plain": [
       "<IPython.core.display.Latex object>"
      ]
     },
     "metadata": {},
     "output_type": "display_data"
    },
    {
     "name": "stdout",
     "output_type": "stream",
     "text": [
      "coherence of |ψ1⟩ =  28.88254797753694\n"
     ]
    },
    {
     "data": {
      "text/plain": [
       "'applied P operator to |ψ4⟩'"
      ]
     },
     "metadata": {},
     "output_type": "display_data"
    },
    {
     "data": {
      "text/latex": [
       "$$(-0.923839885647 - 0.050574964567 i) |00000000\\rangle+ (-0.023901421111 - 0.041398475738 i) |00000100\\rangle+ (0.023901421111 + 0.041398475738 i) |00001000\\rangle+ (-0.023901421111 - 0.041398475738 i) |00001100\\rangle+ (-0.011950710556 - 0.020699237869 i) |00010000\\rangle+ (-0.011950710556 - 0.020699237869 i) |00010001\\rangle + \\ldots + (0.011950710556 + 0.020699237869 i) |11111011\\rangle+ (-0.011950710556 - 0.020699237869 i) |11111100\\rangle+ (-0.011950710556 - 0.020699237869 i) |11111101\\rangle+ (0.011950710556 + 0.020699237869 i) |11111110\\rangle+ (-0.011950710556 - 0.020699237869 i) |11111111\\rangle$$"
      ],
      "text/plain": [
       "<IPython.core.display.Latex object>"
      ]
     },
     "metadata": {},
     "output_type": "display_data"
    },
    {
     "name": "stdout",
     "output_type": "stream",
     "text": [
      "coherence of |ψ4⟩ =  28.88254797753694\n"
     ]
    },
    {
     "data": {
      "text/plain": [
       "'applied Hadamard to all |ψ5⟩'"
      ]
     },
     "metadata": {},
     "output_type": "display_data"
    },
    {
     "data": {
      "text/latex": [
       "$$(-0.059233831672 - 0.005748340019 i) |00000000\\rangle+ (-0.059233831672 - 0.005748340019 i) |00000001\\rangle+ (-0.059233831672 - 0.005748340019 i) |00000010\\rangle+ (-0.059233831672 - 0.005748340019 i) |00000011\\rangle+ (-0.059233831672 - 0.005748340019 i) |00000100\\rangle+ (-0.059233831672 - 0.005748340019 i) |00000101\\rangle + \\ldots + (-0.059233831672 - 0.005748340019 i) |11111011\\rangle+ (-0.059233831672 - 0.005748340019 i) |11111100\\rangle+ (-0.059233831672 - 0.005748340019 i) |11111101\\rangle+ (-0.059233831672 - 0.005748340019 i) |11111110\\rangle+ (-0.059233831672 - 0.005748340019 i) |11111111\\rangle$$"
      ],
      "text/plain": [
       "<IPython.core.display.Latex object>"
      ]
     },
     "metadata": {},
     "output_type": "display_data"
    },
    {
     "name": "stdout",
     "output_type": "stream",
     "text": [
      "coherence of |ψ5⟩ =  244.0093754370867\n",
      "-------- 3  ITERATION OF GROVER'S ITERATION--------\n"
     ]
    },
    {
     "data": {
      "text/plain": [
       "'applied O operator to |ψ2⟩'"
      ]
     },
     "metadata": {},
     "output_type": "display_data"
    },
    {
     "data": {
      "text/latex": [
       "$$(-0.059233831672 - 0.005748340019 i) |00000000\\rangle+ (-0.059233831672 - 0.005748340019 i) |00000001\\rangle+ (-0.059233831672 - 0.005748340019 i) |00000010\\rangle+ (-0.059233831672 - 0.005748340019 i) |00000011\\rangle+ (-0.059233831672 - 0.005748340019 i) |00000100\\rangle+ (-0.059233831672 - 0.005748340019 i) |00000101\\rangle + \\ldots + (-0.059233831672 - 0.005748340019 i) |11111011\\rangle+ (-0.059233831672 - 0.005748340019 i) |11111100\\rangle+ (-0.059233831672 - 0.005748340019 i) |11111101\\rangle+ (-0.059233831672 - 0.005748340019 i) |11111110\\rangle+ (-0.059233831672 - 0.005748340019 i) |11111111\\rangle$$"
      ],
      "text/plain": [
       "<IPython.core.display.Latex object>"
      ]
     },
     "metadata": {},
     "output_type": "display_data"
    },
    {
     "name": "stdout",
     "output_type": "stream",
     "text": [
      "coherence of |ψ2⟩ =  244.0093754370867\n"
     ]
    },
    {
     "data": {
      "text/plain": [
       "'applied Hadamard to all |ψ1⟩'"
      ]
     },
     "metadata": {},
     "output_type": "display_data"
    },
    {
     "data": {
      "text/latex": [
       "$$(-0.931373207835 - 0.131489526715 i) |00000000\\rangle+ (-0.016368098923 + 0.03951608641 i) |00000100\\rangle+ (0.016368098923 - 0.03951608641 i) |00001000\\rangle+ (-0.016368098923 + 0.03951608641 i) |00001100\\rangle+ (-0.008184049461 + 0.019758043205 i) |00010000\\rangle+ (-0.008184049461 + 0.019758043205 i) |00010001\\rangle + \\ldots + (0.008184049461 - 0.019758043205 i) |11111011\\rangle+ (-0.008184049461 + 0.019758043205 i) |11111100\\rangle+ (-0.008184049461 + 0.019758043205 i) |11111101\\rangle+ (0.008184049461 - 0.019758043205 i) |11111110\\rangle+ (-0.008184049461 + 0.019758043205 i) |11111111\\rangle$$"
      ],
      "text/plain": [
       "<IPython.core.display.Latex object>"
      ]
     },
     "metadata": {},
     "output_type": "display_data"
    },
    {
     "name": "stdout",
     "output_type": "stream",
     "text": [
      "coherence of |ψ1⟩ =  24.03941541987943\n"
     ]
    },
    {
     "data": {
      "text/plain": [
       "'applied P operator to |ψ4⟩'"
      ]
     },
     "metadata": {},
     "output_type": "display_data"
    },
    {
     "data": {
      "text/latex": [
       "$$(0.131489526715 - 0.931373207835 i) |00000000\\rangle+ (0.016368098923 - 0.03951608641 i) |00000100\\rangle+ (-0.016368098923 + 0.03951608641 i) |00001000\\rangle+ (0.016368098923 - 0.03951608641 i) |00001100\\rangle+ (0.008184049461 - 0.019758043205 i) |00010000\\rangle+ (0.008184049461 - 0.019758043205 i) |00010001\\rangle + \\ldots + (-0.008184049461 + 0.019758043205 i) |11111011\\rangle+ (0.008184049461 - 0.019758043205 i) |11111100\\rangle+ (0.008184049461 - 0.019758043205 i) |11111101\\rangle+ (-0.008184049461 + 0.019758043205 i) |11111110\\rangle+ (0.008184049461 - 0.019758043205 i) |11111111\\rangle$$"
      ],
      "text/plain": [
       "<IPython.core.display.Latex object>"
      ]
     },
     "metadata": {},
     "output_type": "display_data"
    },
    {
     "name": "stdout",
     "output_type": "stream",
     "text": [
      "coherence of |ψ4⟩ =  24.03941541987943\n"
     ]
    },
    {
     "data": {
      "text/plain": [
       "'applied Hadamard to all |ψ5⟩'"
      ]
     },
     "metadata": {},
     "output_type": "display_data"
    },
    {
     "data": {
      "text/latex": [
       "$$(0.009241101602 - 0.06068058089 i) |00000000\\rangle+ (0.009241101602 - 0.06068058089 i) |00000001\\rangle+ (0.009241101602 - 0.06068058089 i) |00000010\\rangle+ (0.009241101602 - 0.06068058089 i) |00000011\\rangle+ (0.009241101602 - 0.06068058089 i) |00000100\\rangle+ (0.009241101602 - 0.06068058089 i) |00000101\\rangle + \\ldots + (0.009241101602 - 0.06068058089 i) |11111011\\rangle+ (0.009241101602 - 0.06068058089 i) |11111100\\rangle+ (0.009241101602 - 0.06068058089 i) |11111101\\rangle+ (0.009241101602 - 0.06068058089 i) |11111110\\rangle+ (0.009241101602 - 0.06068058089 i) |11111111\\rangle$$"
      ],
      "text/plain": [
       "<IPython.core.display.Latex object>"
      ]
     },
     "metadata": {},
     "output_type": "display_data"
    },
    {
     "name": "stdout",
     "output_type": "stream",
     "text": [
      "coherence of |ψ5⟩ =  252.37075870692826\n",
      "-------- 4  ITERATION OF GROVER'S ITERATION--------\n"
     ]
    },
    {
     "data": {
      "text/plain": [
       "'applied O operator to |ψ2⟩'"
      ]
     },
     "metadata": {},
     "output_type": "display_data"
    },
    {
     "data": {
      "text/latex": [
       "$$(0.009241101602 - 0.06068058089 i) |00000000\\rangle+ (0.009241101602 - 0.06068058089 i) |00000001\\rangle+ (0.009241101602 - 0.06068058089 i) |00000010\\rangle+ (0.009241101602 - 0.06068058089 i) |00000011\\rangle+ (0.009241101602 - 0.06068058089 i) |00000100\\rangle+ (0.009241101602 - 0.06068058089 i) |00000101\\rangle + \\ldots + (0.009241101602 - 0.06068058089 i) |11111011\\rangle+ (0.009241101602 - 0.06068058089 i) |11111100\\rangle+ (0.009241101602 - 0.06068058089 i) |11111101\\rangle+ (0.009241101602 - 0.06068058089 i) |11111110\\rangle+ (0.009241101602 - 0.06068058089 i) |11111111\\rangle$$"
      ],
      "text/plain": [
       "<IPython.core.display.Latex object>"
      ]
     },
     "metadata": {},
     "output_type": "display_data"
    },
    {
     "name": "stdout",
     "output_type": "stream",
     "text": [
      "coherence of |ψ2⟩ =  252.37075870692826\n"
     ]
    },
    {
     "data": {
      "text/plain": [
       "'applied Hadamard to all |ψ1⟩'"
      ]
     },
     "metadata": {},
     "output_type": "display_data"
    },
    {
     "data": {
      "text/latex": [
       "$$(0.165427358289 - 0.97559708992 i) |00000000\\rangle+ (-0.017569732651 + 0.004707795675 i) |00000100\\rangle+ (0.017569732651 - 0.004707795675 i) |00001000\\rangle+ (-0.017569732651 + 0.004707795675 i) |00001100\\rangle+ (-0.008784866326 + 0.002353897838 i) |00010000\\rangle+ (-0.008784866326 + 0.002353897838 i) |00010001\\rangle + \\ldots + (0.008784866326 - 0.002353897838 i) |11111011\\rangle+ (-0.008784866326 + 0.002353897838 i) |11111100\\rangle+ (-0.008784866326 + 0.002353897838 i) |11111101\\rangle+ (0.008784866326 - 0.002353897838 i) |11111110\\rangle+ (-0.008784866326 + 0.002353897838 i) |11111111\\rangle$$"
      ],
      "text/plain": [
       "<IPython.core.display.Latex object>"
      ]
     },
     "metadata": {},
     "output_type": "display_data"
    },
    {
     "name": "stdout",
     "output_type": "stream",
     "text": [
      "coherence of |ψ1⟩ =  6.3849584617397745\n"
     ]
    },
    {
     "data": {
      "text/plain": [
       "'applied P operator to |ψ4⟩'"
      ]
     },
     "metadata": {},
     "output_type": "display_data"
    },
    {
     "data": {
      "text/latex": [
       "$$(0.97559708992 + 0.165427358289 i) |00000000\\rangle+ (0.017569732651 - 0.004707795675 i) |00000100\\rangle+ (-0.017569732651 + 0.004707795675 i) |00001000\\rangle+ (0.017569732651 - 0.004707795675 i) |00001100\\rangle+ (0.008784866326 - 0.002353897838 i) |00010000\\rangle+ (0.008784866326 - 0.002353897838 i) |00010001\\rangle + \\ldots + (-0.008784866326 + 0.002353897838 i) |11111011\\rangle+ (0.008784866326 - 0.002353897838 i) |11111100\\rangle+ (0.008784866326 - 0.002353897838 i) |11111101\\rangle+ (-0.008784866326 + 0.002353897838 i) |11111110\\rangle+ (0.008784866326 - 0.002353897838 i) |11111111\\rangle$$"
      ],
      "text/plain": [
       "<IPython.core.display.Latex object>"
      ]
     },
     "metadata": {},
     "output_type": "display_data"
    },
    {
     "name": "stdout",
     "output_type": "stream",
     "text": [
      "coherence of |ψ4⟩ =  6.3849584617397745\n"
     ]
    },
    {
     "data": {
      "text/plain": [
       "'applied Hadamard to all |ψ5⟩'"
      ]
     },
     "metadata": {},
     "output_type": "display_data"
    },
    {
     "data": {
      "text/latex": [
       "$$(0.062072926411 + 0.010044972663 i) |00000000\\rangle+ (0.062072926411 + 0.010044972663 i) |00000001\\rangle+ (0.062072926411 + 0.010044972663 i) |00000010\\rangle+ (0.062072926411 + 0.010044972663 i) |00000011\\rangle+ (0.062072926411 + 0.010044972663 i) |00000100\\rangle+ (0.062072926411 + 0.010044972663 i) |00000101\\rangle + \\ldots + (0.062072926411 + 0.010044972663 i) |11111011\\rangle+ (0.062072926411 + 0.010044972663 i) |11111100\\rangle+ (0.062072926411 + 0.010044972663 i) |11111101\\rangle+ (0.062072926411 + 0.010044972663 i) |11111110\\rangle+ (0.062072926411 + 0.010044972663 i) |11111111\\rangle$$"
      ],
      "text/plain": [
       "<IPython.core.display.Latex object>"
      ]
     },
     "metadata": {},
     "output_type": "display_data"
    },
    {
     "name": "stdout",
     "output_type": "stream",
     "text": [
      "coherence of |ψ5⟩ =  253.91152044766727\n",
      "-------- 5  ITERATION OF GROVER'S ITERATION--------\n"
     ]
    },
    {
     "data": {
      "text/plain": [
       "'applied O operator to |ψ2⟩'"
      ]
     },
     "metadata": {},
     "output_type": "display_data"
    },
    {
     "data": {
      "text/latex": [
       "$$(0.062072926411 + 0.010044972663 i) |00000000\\rangle+ (0.062072926411 + 0.010044972663 i) |00000001\\rangle+ (0.062072926411 + 0.010044972663 i) |00000010\\rangle+ (0.062072926411 + 0.010044972663 i) |00000011\\rangle+ (0.062072926411 + 0.010044972663 i) |00000100\\rangle+ (0.062072926411 + 0.010044972663 i) |00000101\\rangle + \\ldots + (0.062072926411 + 0.010044972663 i) |11111011\\rangle+ (0.062072926411 + 0.010044972663 i) |11111100\\rangle+ (0.062072926411 + 0.010044972663 i) |11111101\\rangle+ (0.062072926411 + 0.010044972663 i) |11111110\\rangle+ (0.062072926411 + 0.010044972663 i) |11111111\\rangle$$"
      ],
      "text/plain": [
       "<IPython.core.display.Latex object>"
      ]
     },
     "metadata": {},
     "output_type": "display_data"
    },
    {
     "name": "stdout",
     "output_type": "stream",
     "text": [
      "coherence of |ψ2⟩ =  253.91152044766727\n"
     ]
    },
    {
     "data": {
      "text/plain": [
       "'applied Hadamard to all |ψ1⟩'"
      ]
     },
     "metadata": {},
     "output_type": "display_data"
    },
    {
     "data": {
      "text/latex": [
       "$$(0.981498613553 + 0.151766230933 i) |00000000\\rangle+ (0.011668209018 + 0.008953331681 i) |00000100\\rangle+ (-0.011668209018 - 0.008953331681 i) |00001000\\rangle+ (0.011668209018 + 0.008953331681 i) |00001100\\rangle+ (0.005834104509 + 0.00447666584 i) |00010000\\rangle+ (0.005834104509 + 0.00447666584 i) |00010001\\rangle + \\ldots + (-0.005834104509 - 0.00447666584 i) |11111011\\rangle+ (0.005834104509 + 0.00447666584 i) |11111100\\rangle+ (0.005834104509 + 0.00447666584 i) |11111101\\rangle+ (-0.005834104509 - 0.00447666584 i) |11111110\\rangle+ (0.005834104509 + 0.00447666584 i) |11111111\\rangle$$"
      ],
      "text/plain": [
       "<IPython.core.display.Latex object>"
      ]
     },
     "metadata": {},
     "output_type": "display_data"
    },
    {
     "name": "stdout",
     "output_type": "stream",
     "text": [
      "coherence of |ψ1⟩ =  4.713874313307356\n"
     ]
    },
    {
     "data": {
      "text/plain": [
       "'applied P operator to |ψ4⟩'"
      ]
     },
     "metadata": {},
     "output_type": "display_data"
    },
    {
     "data": {
      "text/latex": [
       "$$(-0.151766230933 + 0.981498613553 i) |00000000\\rangle+ (-0.011668209018 - 0.008953331681 i) |00000100\\rangle+ (0.011668209018 + 0.008953331681 i) |00001000\\rangle+ (-0.011668209018 - 0.008953331681 i) |00001100\\rangle+ (-0.005834104509 - 0.00447666584 i) |00010000\\rangle+ (-0.005834104509 - 0.00447666584 i) |00010001\\rangle + \\ldots + (0.005834104509 + 0.00447666584 i) |11111011\\rangle+ (-0.005834104509 - 0.00447666584 i) |11111100\\rangle+ (-0.005834104509 - 0.00447666584 i) |11111101\\rangle+ (0.005834104509 + 0.00447666584 i) |11111110\\rangle+ (-0.005834104509 - 0.00447666584 i) |11111111\\rangle$$"
      ],
      "text/plain": [
       "<IPython.core.display.Latex object>"
      ]
     },
     "metadata": {},
     "output_type": "display_data"
    },
    {
     "name": "stdout",
     "output_type": "stream",
     "text": [
      "coherence of |ψ4⟩ =  4.713874313307356\n"
     ]
    },
    {
     "data": {
      "text/plain": [
       "'applied Hadamard to all |ψ5⟩'"
      ]
     },
     "metadata": {},
     "output_type": "display_data"
    },
    {
     "data": {
      "text/latex": [
       "$$(-0.010214652497 + 0.060784080117 i) |00000000\\rangle+ (-0.010214652497 + 0.060784080117 i) |00000001\\rangle+ (-0.010214652497 + 0.060784080117 i) |00000010\\rangle+ (-0.010214652497 + 0.060784080117 i) |00000011\\rangle+ (-0.010214652497 + 0.060784080117 i) |00000100\\rangle+ (-0.010214652497 + 0.060784080117 i) |00000101\\rangle + \\ldots + (-0.010214652497 + 0.060784080117 i) |11111011\\rangle+ (-0.010214652497 + 0.060784080117 i) |11111100\\rangle+ (-0.010214652497 + 0.060784080117 i) |11111101\\rangle+ (-0.010214652497 + 0.060784080117 i) |11111110\\rangle+ (-0.010214652497 + 0.060784080117 i) |11111111\\rangle$$"
      ],
      "text/plain": [
       "<IPython.core.display.Latex object>"
      ]
     },
     "metadata": {},
     "output_type": "display_data"
    },
    {
     "name": "stdout",
     "output_type": "stream",
     "text": [
      "coherence of |ψ5⟩ =  253.25457684825568\n",
      "-------- 6  ITERATION OF GROVER'S ITERATION--------\n"
     ]
    },
    {
     "data": {
      "text/plain": [
       "'applied O operator to |ψ2⟩'"
      ]
     },
     "metadata": {},
     "output_type": "display_data"
    },
    {
     "data": {
      "text/latex": [
       "$$(-0.010214652497 + 0.060784080117 i) |00000000\\rangle+ (-0.010214652497 + 0.060784080117 i) |00000001\\rangle+ (-0.010214652497 + 0.060784080117 i) |00000010\\rangle+ (-0.010214652497 + 0.060784080117 i) |00000011\\rangle+ (-0.010214652497 + 0.060784080117 i) |00000100\\rangle+ (-0.010214652497 + 0.060784080117 i) |00000101\\rangle + \\ldots + (-0.010214652497 + 0.060784080117 i) |11111011\\rangle+ (-0.010214652497 + 0.060784080117 i) |11111100\\rangle+ (-0.010214652497 + 0.060784080117 i) |11111101\\rangle+ (-0.010214652497 + 0.060784080117 i) |11111110\\rangle+ (-0.010214652497 + 0.060784080117 i) |11111111\\rangle$$"
      ],
      "text/plain": [
       "<IPython.core.display.Latex object>"
      ]
     },
     "metadata": {},
     "output_type": "display_data"
    },
    {
     "name": "stdout",
     "output_type": "stream",
     "text": [
      "coherence of |ψ2⟩ =  253.25457684825568\n"
     ]
    },
    {
     "data": {
      "text/plain": [
       "'applied Hadamard to all |ψ1⟩'"
      ]
     },
     "metadata": {},
     "output_type": "display_data"
    },
    {
     "data": {
      "text/latex": [
       "$$(-0.163434439951 + 0.931663761273 i) |00000000\\rangle+0.040881520599 i |00000100\\rangle- 0.040881520599 i |00001000\\rangle+0.040881520599 i |00001100\\rangle+0.020440760299 i |00010000\\rangle+0.020440760299 i |00010001\\rangle + \\ldots - 0.020440760299 i |11111011\\rangle+0.020440760299 i |11111100\\rangle+0.020440760299 i |11111101\\rangle- 0.020440760299 i |11111110\\rangle+0.020440760299 i |11111111\\rangle$$"
      ],
      "text/plain": [
       "<IPython.core.display.Latex object>"
      ]
     },
     "metadata": {},
     "output_type": "display_data"
    },
    {
     "name": "stdout",
     "output_type": "stream",
     "text": [
      "coherence of |ψ1⟩ =  22.325370458497254\n"
     ]
    },
    {
     "data": {
      "text/plain": [
       "'applied P operator to |ψ4⟩'"
      ]
     },
     "metadata": {},
     "output_type": "display_data"
    },
    {
     "data": {
      "text/latex": [
       "$$(-0.931663761273 - 0.163434439951 i) |00000000\\rangle- 0.040881520599 i |00000100\\rangle+0.040881520599 i |00001000\\rangle- 0.040881520599 i |00001100\\rangle- 0.020440760299 i |00010000\\rangle- 0.020440760299 i |00010001\\rangle + \\ldots +0.020440760299 i |11111011\\rangle- 0.020440760299 i |11111100\\rangle- 0.020440760299 i |11111101\\rangle+0.020440760299 i |11111110\\rangle- 0.020440760299 i |11111111\\rangle$$"
      ],
      "text/plain": [
       "<IPython.core.display.Latex object>"
      ]
     },
     "metadata": {},
     "output_type": "display_data"
    },
    {
     "name": "stdout",
     "output_type": "stream",
     "text": [
      "coherence of |ψ4⟩ =  22.325370458497254\n"
     ]
    },
    {
     "data": {
      "text/plain": [
       "'applied Hadamard to all |ψ5⟩'"
      ]
     },
     "metadata": {},
     "output_type": "display_data"
    },
    {
     "data": {
      "text/latex": [
       "$$(-0.05822898508 - 0.012769747534 i) |00000000\\rangle+ (-0.05822898508 - 0.012769747534 i) |00000001\\rangle+ (-0.05822898508 - 0.012769747534 i) |00000010\\rangle+ (-0.05822898508 - 0.012769747534 i) |00000011\\rangle+ (-0.05822898508 - 0.012769747534 i) |00000100\\rangle+ (-0.05822898508 - 0.012769747534 i) |00000101\\rangle + \\ldots + (-0.05822898508 - 0.012769747534 i) |11111011\\rangle+ (-0.05822898508 - 0.012769747534 i) |11111100\\rangle+ (-0.05822898508 - 0.012769747534 i) |11111101\\rangle+ (-0.05822898508 - 0.012769747534 i) |11111110\\rangle+ (-0.05822898508 - 0.012769747534 i) |11111111\\rangle$$"
      ],
      "text/plain": [
       "<IPython.core.display.Latex object>"
      ]
     },
     "metadata": {},
     "output_type": "display_data"
    },
    {
     "name": "stdout",
     "output_type": "stream",
     "text": [
      "coherence of |ψ5⟩ =  244.51314779784312\n",
      "======================================== FOR ϕ =  135.0 ========================================\n"
     ]
    },
    {
     "data": {
      "text/plain": [
       "'initialised |ψ0⟩'"
      ]
     },
     "metadata": {},
     "output_type": "display_data"
    },
    {
     "data": {
      "text/latex": [
       "$$ |00000000\\rangle$$"
      ],
      "text/plain": [
       "<IPython.core.display.Latex object>"
      ]
     },
     "metadata": {},
     "output_type": "display_data"
    },
    {
     "name": "stdout",
     "output_type": "stream",
     "text": [
      "coherence of |ψ0⟩ =  0.0\n"
     ]
    },
    {
     "data": {
      "text/plain": [
       "'applied Hadamard to all |ψ1⟩'"
      ]
     },
     "metadata": {},
     "output_type": "display_data"
    },
    {
     "data": {
      "text/latex": [
       "$$\\frac{1}{16} |00000000\\rangle+\\frac{1}{16} |00000001\\rangle+\\frac{1}{16} |00000010\\rangle+\\frac{1}{16} |00000011\\rangle+\\frac{1}{16} |00000100\\rangle+\\frac{1}{16} |00000101\\rangle + \\ldots +\\frac{1}{16} |11111011\\rangle+\\frac{1}{16} |11111100\\rangle+\\frac{1}{16} |11111101\\rangle+\\frac{1}{16} |11111110\\rangle+\\frac{1}{16} |11111111\\rangle$$"
      ],
      "text/plain": [
       "<IPython.core.display.Latex object>"
      ]
     },
     "metadata": {},
     "output_type": "display_data"
    },
    {
     "name": "stdout",
     "output_type": "stream",
     "text": [
      "coherence of |ψ1⟩ =  255.00000000000003\n",
      "-------- 1  ITERATION OF GROVER'S ITERATION--------\n"
     ]
    },
    {
     "data": {
      "text/plain": [
       "'applied O operator to |ψ2⟩'"
      ]
     },
     "metadata": {},
     "output_type": "display_data"
    },
    {
     "data": {
      "text/latex": [
       "$$\\frac{1}{16} |00000000\\rangle+\\frac{1}{16} |00000001\\rangle+\\frac{1}{16} |00000010\\rangle+\\frac{1}{16} |00000011\\rangle+\\frac{1}{16} |00000100\\rangle+\\frac{1}{16} |00000101\\rangle + \\ldots +\\frac{1}{16} |11111011\\rangle+\\frac{1}{16} |11111100\\rangle+\\frac{1}{16} |11111101\\rangle+\\frac{1}{16} |11111110\\rangle+\\frac{1}{16} |11111111\\rangle$$"
      ],
      "text/plain": [
       "<IPython.core.display.Latex object>"
      ]
     },
     "metadata": {},
     "output_type": "display_data"
    },
    {
     "name": "stdout",
     "output_type": "stream",
     "text": [
      "coherence of |ψ2⟩ =  255.00000000000003\n"
     ]
    },
    {
     "data": {
      "text/plain": [
       "'applied Hadamard to all |ψ1⟩'"
      ]
     },
     "metadata": {},
     "output_type": "display_data"
    },
    {
     "data": {
      "text/latex": [
       "$$(0.970843353066 - 0.0078125 i) |00000000\\rangle+ (0.029156646934 + 0.0078125 i) |00000100\\rangle+ (-0.029156646934 - 0.0078125 i) |00001000\\rangle+ (0.029156646934 + 0.0078125 i) |00001100\\rangle+ (0.014578323467 + 0.00390625 i) |00010000\\rangle+ (0.014578323467 + 0.00390625 i) |00010001\\rangle + \\ldots + (-0.014578323467 - 0.00390625 i) |11111011\\rangle+ (0.014578323467 + 0.00390625 i) |11111100\\rangle+ (0.014578323467 + 0.00390625 i) |11111101\\rangle+ (-0.014578323467 - 0.00390625 i) |11111110\\rangle+ (0.014578323467 + 0.00390625 i) |11111111\\rangle$$"
      ],
      "text/plain": [
       "<IPython.core.display.Latex object>"
      ]
     },
     "metadata": {},
     "output_type": "display_data"
    },
    {
     "name": "stdout",
     "output_type": "stream",
     "text": [
      "coherence of |ψ1⟩ =  13.733829550674622\n"
     ]
    },
    {
     "data": {
      "text/plain": [
       "'applied P operator to |ψ4⟩'"
      ]
     },
     "metadata": {},
     "output_type": "display_data"
    },
    {
     "data": {
      "text/latex": [
       "$$(-0.680965646695 + 0.692014190151 i) |00000000\\rangle+ (-0.029156646934 - 0.0078125 i) |00000100\\rangle+ (0.029156646934 + 0.0078125 i) |00001000\\rangle+ (-0.029156646934 - 0.0078125 i) |00001100\\rangle+ (-0.014578323467 - 0.00390625 i) |00010000\\rangle+ (-0.014578323467 - 0.00390625 i) |00010001\\rangle + \\ldots + (0.014578323467 + 0.00390625 i) |11111011\\rangle+ (-0.014578323467 - 0.00390625 i) |11111100\\rangle+ (-0.014578323467 - 0.00390625 i) |11111101\\rangle+ (0.014578323467 + 0.00390625 i) |11111110\\rangle+ (-0.014578323467 - 0.00390625 i) |11111111\\rangle$$"
      ],
      "text/plain": [
       "<IPython.core.display.Latex object>"
      ]
     },
     "metadata": {},
     "output_type": "display_data"
    },
    {
     "name": "stdout",
     "output_type": "stream",
     "text": [
      "coherence of |ψ4⟩ =  13.733829550674622\n"
     ]
    },
    {
     "data": {
      "text/plain": [
       "'applied Hadamard to all |ψ5⟩'"
      ]
     },
     "metadata": {},
     "output_type": "display_data"
    },
    {
     "data": {
      "text/latex": [
       "$$(-0.044382643352 + 0.042762605634 i) |00000000\\rangle+ (-0.044382643352 + 0.042762605634 i) |00000001\\rangle+ (-0.044382643352 + 0.042762605634 i) |00000010\\rangle+ (-0.044382643352 + 0.042762605634 i) |00000011\\rangle+ (-0.044382643352 + 0.042762605634 i) |00000100\\rangle+ (-0.044382643352 + 0.042762605634 i) |00000101\\rangle + \\ldots + (-0.044382643352 + 0.042762605634 i) |11111011\\rangle+ (-0.044382643352 + 0.042762605634 i) |11111100\\rangle+ (-0.044382643352 + 0.042762605634 i) |11111101\\rangle+ (-0.044382643352 + 0.042762605634 i) |11111110\\rangle+ (-0.044382643352 + 0.042762605634 i) |11111111\\rangle$$"
      ],
      "text/plain": [
       "<IPython.core.display.Latex object>"
      ]
     },
     "metadata": {},
     "output_type": "display_data"
    },
    {
     "name": "stdout",
     "output_type": "stream",
     "text": [
      "coherence of |ψ5⟩ =  253.23921043662503\n",
      "-------- 2  ITERATION OF GROVER'S ITERATION--------\n"
     ]
    },
    {
     "data": {
      "text/plain": [
       "'applied O operator to |ψ2⟩'"
      ]
     },
     "metadata": {},
     "output_type": "display_data"
    },
    {
     "data": {
      "text/latex": [
       "$$(-0.044382643352 + 0.042762605634 i) |00000000\\rangle+ (-0.044382643352 + 0.042762605634 i) |00000001\\rangle+ (-0.044382643352 + 0.042762605634 i) |00000010\\rangle+ (-0.044382643352 + 0.042762605634 i) |00000011\\rangle+ (-0.044382643352 + 0.042762605634 i) |00000100\\rangle+ (-0.044382643352 + 0.042762605634 i) |00000101\\rangle + \\ldots + (-0.044382643352 + 0.042762605634 i) |11111011\\rangle+ (-0.044382643352 + 0.042762605634 i) |11111100\\rangle+ (-0.044382643352 + 0.042762605634 i) |11111101\\rangle+ (-0.044382643352 + 0.042762605634 i) |11111110\\rangle+ (-0.044382643352 + 0.042762605634 i) |11111111\\rangle$$"
      ],
      "text/plain": [
       "<IPython.core.display.Latex object>"
      ]
     },
     "metadata": {},
     "output_type": "display_data"
    },
    {
     "name": "stdout",
     "output_type": "stream",
     "text": [
      "coherence of |ψ2⟩ =  253.23921043662503\n"
     ]
    },
    {
     "data": {
      "text/plain": [
       "'applied Hadamard to all |ψ1⟩'"
      ]
     },
     "metadata": {},
     "output_type": "display_data"
    },
    {
     "data": {
      "text/latex": [
       "$$(-0.705416329863 + 0.648456346524 i) |00000000\\rangle+ (-0.004705963766 + 0.035745343627 i) |00000100\\rangle+ (0.004705963766 - 0.035745343627 i) |00001000\\rangle+ (-0.004705963766 + 0.035745343627 i) |00001100\\rangle+ (-0.002352981883 + 0.017872671813 i) |00010000\\rangle+ (-0.002352981883 + 0.017872671813 i) |00010001\\rangle + \\ldots + (0.002352981883 - 0.017872671813 i) |11111011\\rangle+ (-0.002352981883 + 0.017872671813 i) |11111100\\rangle+ (-0.002352981883 + 0.017872671813 i) |11111101\\rangle+ (0.002352981883 - 0.017872671813 i) |11111110\\rangle+ (-0.002352981883 + 0.017872671813 i) |11111111\\rangle$$"
      ],
      "text/plain": [
       "<IPython.core.display.Latex object>"
      ]
     },
     "metadata": {},
     "output_type": "display_data"
    },
    {
     "name": "stdout",
     "output_type": "stream",
     "text": [
      "coherence of |ψ1⟩ =  18.21322570940203\n"
     ]
    },
    {
     "data": {
      "text/plain": [
       "'applied P operator to |ψ4⟩'"
      ]
     },
     "metadata": {},
     "output_type": "display_data"
    },
    {
     "data": {
      "text/latex": [
       "$$(0.040276790475 - 0.957332550337 i) |00000000\\rangle+ (0.004705963766 - 0.035745343627 i) |00000100\\rangle+ (-0.004705963766 + 0.035745343627 i) |00001000\\rangle+ (0.004705963766 - 0.035745343627 i) |00001100\\rangle+ (0.002352981883 - 0.017872671813 i) |00010000\\rangle+ (0.002352981883 - 0.017872671813 i) |00010001\\rangle + \\ldots + (-0.002352981883 + 0.017872671813 i) |11111011\\rangle+ (0.002352981883 - 0.017872671813 i) |11111100\\rangle+ (0.002352981883 - 0.017872671813 i) |11111101\\rangle+ (-0.002352981883 + 0.017872671813 i) |11111110\\rangle+ (0.002352981883 - 0.017872671813 i) |11111111\\rangle$$"
      ],
      "text/plain": [
       "<IPython.core.display.Latex object>"
      ]
     },
     "metadata": {},
     "output_type": "display_data"
    },
    {
     "name": "stdout",
     "output_type": "stream",
     "text": [
      "coherence of |ψ4⟩ =  18.21322570940203\n"
     ]
    },
    {
     "data": {
      "text/plain": [
       "'applied Hadamard to all |ψ5⟩'"
      ]
     },
     "metadata": {},
     "output_type": "display_data"
    },
    {
     "data": {
      "text/latex": [
       "$$(0.00281142214 - 0.062067368373 i) |00000000\\rangle+ (0.00281142214 - 0.062067368373 i) |00000001\\rangle+ (0.00281142214 - 0.062067368373 i) |00000010\\rangle+ (0.00281142214 - 0.062067368373 i) |00000011\\rangle+ (0.00281142214 - 0.062067368373 i) |00000100\\rangle+ (0.00281142214 - 0.062067368373 i) |00000101\\rangle + \\ldots + (0.00281142214 - 0.062067368373 i) |11111011\\rangle+ (0.00281142214 - 0.062067368373 i) |11111100\\rangle+ (0.00281142214 - 0.062067368373 i) |11111101\\rangle+ (0.00281142214 - 0.062067368373 i) |11111110\\rangle+ (0.00281142214 - 0.062067368373 i) |11111111\\rangle$$"
      ],
      "text/plain": [
       "<IPython.core.display.Latex object>"
      ]
     },
     "metadata": {},
     "output_type": "display_data"
    },
    {
     "name": "stdout",
     "output_type": "stream",
     "text": [
      "coherence of |ψ5⟩ =  254.58247560459228\n",
      "-------- 3  ITERATION OF GROVER'S ITERATION--------\n"
     ]
    },
    {
     "data": {
      "text/plain": [
       "'applied O operator to |ψ2⟩'"
      ]
     },
     "metadata": {},
     "output_type": "display_data"
    },
    {
     "data": {
      "text/latex": [
       "$$(0.00281142214 - 0.062067368373 i) |00000000\\rangle+ (0.00281142214 - 0.062067368373 i) |00000001\\rangle+ (0.00281142214 - 0.062067368373 i) |00000010\\rangle+ (0.00281142214 - 0.062067368373 i) |00000011\\rangle+ (0.00281142214 - 0.062067368373 i) |00000100\\rangle+ (0.00281142214 - 0.062067368373 i) |00000101\\rangle + \\ldots + (0.00281142214 - 0.062067368373 i) |11111011\\rangle+ (0.00281142214 - 0.062067368373 i) |11111100\\rangle+ (0.00281142214 - 0.062067368373 i) |11111101\\rangle+ (0.00281142214 - 0.062067368373 i) |11111110\\rangle+ (0.00281142214 - 0.062067368373 i) |11111111\\rangle$$"
      ],
      "text/plain": [
       "<IPython.core.display.Latex object>"
      ]
     },
     "metadata": {},
     "output_type": "display_data"
    },
    {
     "name": "stdout",
     "output_type": "stream",
     "text": [
      "coherence of |ψ2⟩ =  254.58247560459228\n"
     ]
    },
    {
     "data": {
      "text/plain": [
       "'applied Hadamard to all |ψ1⟩'"
      ]
     },
     "metadata": {},
     "output_type": "display_data"
    },
    {
     "data": {
      "text/latex": [
       "$$(0.057860942894 - 0.993077893963 i) |00000000\\rangle-0.012878188653 |00000100\\rangle+0.012878188653 |00001000\\rangle-0.012878188653 |00001100\\rangle-0.006439094327 |00010000\\rangle-0.006439094327 |00010001\\rangle + \\ldots +0.006439094327 |11111011\\rangle-0.006439094327 |11111100\\rangle-0.006439094327 |11111101\\rangle+0.006439094327 |11111110\\rangle-0.006439094327 |11111111\\rangle$$"
      ],
      "text/plain": [
       "<IPython.core.display.Latex object>"
      ]
     },
     "metadata": {},
     "output_type": "display_data"
    },
    {
     "name": "stdout",
     "output_type": "stream",
     "text": [
      "coherence of |ψ1⟩ =  3.9203668772636053\n"
     ]
    },
    {
     "data": {
      "text/plain": [
       "'applied P operator to |ψ4⟩'"
      ]
     },
     "metadata": {},
     "output_type": "display_data"
    },
    {
     "data": {
      "text/latex": [
       "$$(0.661298247981 + 0.743125978154 i) |00000000\\rangle+0.012878188653 |00000100\\rangle-0.012878188653 |00001000\\rangle+0.012878188653 |00001100\\rangle+0.006439094327 |00010000\\rangle+0.006439094327 |00010001\\rangle + \\ldots -0.006439094327 |11111011\\rangle+0.006439094327 |11111100\\rangle+0.006439094327 |11111101\\rangle-0.006439094327 |11111110\\rangle+0.006439094327 |11111111\\rangle$$"
      ],
      "text/plain": [
       "<IPython.core.display.Latex object>"
      ]
     },
     "metadata": {},
     "output_type": "display_data"
    },
    {
     "name": "stdout",
     "output_type": "stream",
     "text": [
      "coherence of |ψ4⟩ =  3.9203668772636053\n"
     ]
    },
    {
     "data": {
      "text/plain": [
       "'applied Hadamard to all |ψ5⟩'"
      ]
     },
     "metadata": {},
     "output_type": "display_data"
    },
    {
     "data": {
      "text/latex": [
       "$$(0.04213602729 + 0.046445373635 i) |00000000\\rangle+ (0.04213602729 + 0.046445373635 i) |00000001\\rangle+ (0.04213602729 + 0.046445373635 i) |00000010\\rangle+ (0.04213602729 + 0.046445373635 i) |00000011\\rangle+ (0.04213602729 + 0.046445373635 i) |00000100\\rangle+ (0.04213602729 + 0.046445373635 i) |00000101\\rangle + \\ldots + (0.04213602729 + 0.046445373635 i) |11111011\\rangle+ (0.04213602729 + 0.046445373635 i) |11111100\\rangle+ (0.04213602729 + 0.046445373635 i) |11111101\\rangle+ (0.04213602729 + 0.046445373635 i) |11111110\\rangle+ (0.04213602729 + 0.046445373635 i) |11111111\\rangle$$"
      ],
      "text/plain": [
       "<IPython.core.display.Latex object>"
      ]
     },
     "metadata": {},
     "output_type": "display_data"
    },
    {
     "name": "stdout",
     "output_type": "stream",
     "text": [
      "coherence of |ψ5⟩ =  254.76316838222564\n",
      "-------- 4  ITERATION OF GROVER'S ITERATION--------\n"
     ]
    },
    {
     "data": {
      "text/plain": [
       "'applied O operator to |ψ2⟩'"
      ]
     },
     "metadata": {},
     "output_type": "display_data"
    },
    {
     "data": {
      "text/latex": [
       "$$(0.04213602729 + 0.046445373635 i) |00000000\\rangle+ (0.04213602729 + 0.046445373635 i) |00000001\\rangle+ (0.04213602729 + 0.046445373635 i) |00000010\\rangle+ (0.04213602729 + 0.046445373635 i) |00000011\\rangle+ (0.04213602729 + 0.046445373635 i) |00000100\\rangle+ (0.04213602729 + 0.046445373635 i) |00000101\\rangle + \\ldots + (0.04213602729 + 0.046445373635 i) |11111011\\rangle+ (0.04213602729 + 0.046445373635 i) |11111100\\rangle+ (0.04213602729 + 0.046445373635 i) |11111101\\rangle+ (0.04213602729 + 0.046445373635 i) |11111110\\rangle+ (0.04213602729 + 0.046445373635 i) |11111111\\rangle$$"
      ],
      "text/plain": [
       "<IPython.core.display.Latex object>"
      ]
     },
     "metadata": {},
     "output_type": "display_data"
    },
    {
     "name": "stdout",
     "output_type": "stream",
     "text": [
      "coherence of |ψ2⟩ =  254.76316838222564\n"
     ]
    },
    {
     "data": {
      "text/plain": [
       "'applied Hadamard to all |ψ1⟩'"
      ]
     },
     "metadata": {},
     "output_type": "display_data"
    },
    {
     "data": {
      "text/latex": [
       "$$(0.671478222534 + 0.722631007297 i) |00000000\\rangle+ (0.002698214101 + 0.020494970857 i) |00000100\\rangle+ (-0.002698214101 - 0.020494970857 i) |00001000\\rangle+ (0.002698214101 + 0.020494970857 i) |00001100\\rangle+ (0.001349107051 + 0.010247485429 i) |00010000\\rangle+ (0.001349107051 + 0.010247485429 i) |00010001\\rangle + \\ldots + (-0.001349107051 - 0.010247485429 i) |11111011\\rangle+ (0.001349107051 + 0.010247485429 i) |11111100\\rangle+ (0.001349107051 + 0.010247485429 i) |11111101\\rangle+ (-0.001349107051 - 0.010247485429 i) |11111110\\rangle+ (0.001349107051 + 0.010247485429 i) |11111111\\rangle$$"
      ],
      "text/plain": [
       "<IPython.core.display.Latex object>"
      ]
     },
     "metadata": {},
     "output_type": "display_data"
    },
    {
     "name": "stdout",
     "output_type": "stream",
     "text": [
      "coherence of |ψ1⟩ =  7.704095797514719\n"
     ]
    },
    {
     "data": {
      "text/plain": [
       "'applied P operator to |ψ4⟩'"
      ]
     },
     "metadata": {},
     "output_type": "display_data"
    },
    {
     "data": {
      "text/latex": [
       "$$(-0.985784090128 - 0.036170480983 i) |00000000\\rangle+ (-0.002698214101 - 0.020494970857 i) |00000100\\rangle+ (0.002698214101 + 0.020494970857 i) |00001000\\rangle+ (-0.002698214101 - 0.020494970857 i) |00001100\\rangle+ (-0.001349107051 - 0.010247485429 i) |00010000\\rangle+ (-0.001349107051 - 0.010247485429 i) |00010001\\rangle + \\ldots + (0.001349107051 + 0.010247485429 i) |11111011\\rangle+ (-0.001349107051 - 0.010247485429 i) |11111100\\rangle+ (-0.001349107051 - 0.010247485429 i) |11111101\\rangle+ (0.001349107051 + 0.010247485429 i) |11111110\\rangle+ (-0.001349107051 - 0.010247485429 i) |11111111\\rangle$$"
      ],
      "text/plain": [
       "<IPython.core.display.Latex object>"
      ]
     },
     "metadata": {},
     "output_type": "display_data"
    },
    {
     "name": "stdout",
     "output_type": "stream",
     "text": [
      "coherence of |ψ4⟩ =  7.704095797514719\n"
     ]
    },
    {
     "data": {
      "text/plain": [
       "'applied Hadamard to all |ψ5⟩'"
      ]
     },
     "metadata": {},
     "output_type": "display_data"
    },
    {
     "data": {
      "text/latex": [
       "$$(-0.061780144014 - 0.00354159074 i) |00000000\\rangle+ (-0.061780144014 - 0.00354159074 i) |00000001\\rangle+ (-0.061780144014 - 0.00354159074 i) |00000010\\rangle+ (-0.061780144014 - 0.00354159074 i) |00000011\\rangle+ (-0.061780144014 - 0.00354159074 i) |00000100\\rangle+ (-0.061780144014 - 0.00354159074 i) |00000101\\rangle + \\ldots + (-0.061780144014 - 0.00354159074 i) |11111011\\rangle+ (-0.061780144014 - 0.00354159074 i) |11111100\\rangle+ (-0.061780144014 - 0.00354159074 i) |11111101\\rangle+ (-0.061780144014 - 0.00354159074 i) |11111110\\rangle+ (-0.061780144014 - 0.00354159074 i) |11111111\\rangle$$"
      ],
      "text/plain": [
       "<IPython.core.display.Latex object>"
      ]
     },
     "metadata": {},
     "output_type": "display_data"
    },
    {
     "name": "stdout",
     "output_type": "stream",
     "text": [
      "coherence of |ψ5⟩ =  253.98886008432405\n",
      "-------- 5  ITERATION OF GROVER'S ITERATION--------\n"
     ]
    },
    {
     "data": {
      "text/plain": [
       "'applied O operator to |ψ2⟩'"
      ]
     },
     "metadata": {},
     "output_type": "display_data"
    },
    {
     "data": {
      "text/latex": [
       "$$(-0.061780144014 - 0.00354159074 i) |00000000\\rangle+ (-0.061780144014 - 0.00354159074 i) |00000001\\rangle+ (-0.061780144014 - 0.00354159074 i) |00000010\\rangle+ (-0.061780144014 - 0.00354159074 i) |00000011\\rangle+ (-0.061780144014 - 0.00354159074 i) |00000100\\rangle+ (-0.061780144014 - 0.00354159074 i) |00000101\\rangle + \\ldots + (-0.061780144014 - 0.00354159074 i) |11111011\\rangle+ (-0.061780144014 - 0.00354159074 i) |11111100\\rangle+ (-0.061780144014 - 0.00354159074 i) |11111101\\rangle+ (-0.061780144014 - 0.00354159074 i) |11111110\\rangle+ (-0.061780144014 - 0.00354159074 i) |11111111\\rangle$$"
      ],
      "text/plain": [
       "<IPython.core.display.Latex object>"
      ]
     },
     "metadata": {},
     "output_type": "display_data"
    },
    {
     "name": "stdout",
     "output_type": "stream",
     "text": [
      "coherence of |ψ2⟩ =  253.98886008432405\n"
     ]
    },
    {
     "data": {
      "text/plain": [
       "'applied Hadamard to all |ψ1⟩'"
      ]
     },
     "metadata": {},
     "output_type": "display_data"
    },
    {
     "data": {
      "text/latex": [
       "$$(-0.952193410055 - 0.066389031728 i) |00000000\\rangle+ (-0.036288894175 + 0.009723579888 i) |00000100\\rangle+ (0.036288894175 - 0.009723579888 i) |00001000\\rangle+ (-0.036288894175 + 0.009723579888 i) |00001100\\rangle+ (-0.018144447087 + 0.004861789944 i) |00010000\\rangle+ (-0.018144447087 + 0.004861789944 i) |00010001\\rangle + \\ldots + (0.018144447087 - 0.004861789944 i) |11111011\\rangle+ (-0.018144447087 + 0.004861789944 i) |11111100\\rangle+ (-0.018144447087 + 0.004861789944 i) |11111101\\rangle+ (0.018144447087 - 0.004861789944 i) |11111110\\rangle+ (-0.018144447087 + 0.004861789944 i) |11111111\\rangle$$"
      ],
      "text/plain": [
       "<IPython.core.display.Latex object>"
      ]
     },
     "metadata": {},
     "output_type": "display_data"
    },
    {
     "name": "stdout",
     "output_type": "stream",
     "text": [
      "coherence of |ψ1⟩ =  19.462618919702354\n"
     ]
    },
    {
     "data": {
      "text/plain": [
       "'applied P operator to |ψ4⟩'"
      ]
     },
     "metadata": {},
     "output_type": "display_data"
    },
    {
     "data": {
      "text/latex": [
       "$$(0.720246551783 - 0.626358282719 i) |00000000\\rangle+ (0.036288894175 - 0.009723579888 i) |00000100\\rangle+ (-0.036288894175 + 0.009723579888 i) |00001000\\rangle+ (0.036288894175 - 0.009723579888 i) |00001100\\rangle+ (0.018144447087 - 0.004861789944 i) |00010000\\rangle+ (0.018144447087 - 0.004861789944 i) |00010001\\rangle + \\ldots + (-0.018144447087 + 0.004861789944 i) |11111011\\rangle+ (0.018144447087 - 0.004861789944 i) |11111100\\rangle+ (0.018144447087 - 0.004861789944 i) |11111101\\rangle+ (-0.018144447087 + 0.004861789944 i) |11111110\\rangle+ (0.018144447087 - 0.004861789944 i) |11111111\\rangle$$"
      ],
      "text/plain": [
       "<IPython.core.display.Latex object>"
      ]
     },
     "metadata": {},
     "output_type": "display_data"
    },
    {
     "name": "stdout",
     "output_type": "stream",
     "text": [
      "coherence of |ψ4⟩ =  19.462618919702354\n"
     ]
    },
    {
     "data": {
      "text/plain": [
       "'applied Hadamard to all |ψ5⟩'"
      ]
     },
     "metadata": {},
     "output_type": "display_data"
    },
    {
     "data": {
      "text/latex": [
       "$$(0.047283465372 - 0.039755116413 i) |00000000\\rangle+ (0.047283465372 - 0.039755116413 i) |00000001\\rangle+ (0.047283465372 - 0.039755116413 i) |00000010\\rangle+ (0.047283465372 - 0.039755116413 i) |00000011\\rangle+ (0.047283465372 - 0.039755116413 i) |00000100\\rangle+ (0.047283465372 - 0.039755116413 i) |00000101\\rangle + \\ldots + (0.047283465372 - 0.039755116413 i) |11111011\\rangle+ (0.047283465372 - 0.039755116413 i) |11111100\\rangle+ (0.047283465372 - 0.039755116413 i) |11111101\\rangle+ (0.047283465372 - 0.039755116413 i) |11111110\\rangle+ (0.047283465372 - 0.039755116413 i) |11111111\\rangle$$"
      ],
      "text/plain": [
       "<IPython.core.display.Latex object>"
      ]
     },
     "metadata": {},
     "output_type": "display_data"
    },
    {
     "name": "stdout",
     "output_type": "stream",
     "text": [
      "coherence of |ψ5⟩ =  253.68632542501672\n",
      "-------- 6  ITERATION OF GROVER'S ITERATION--------\n"
     ]
    },
    {
     "data": {
      "text/plain": [
       "'applied O operator to |ψ2⟩'"
      ]
     },
     "metadata": {},
     "output_type": "display_data"
    },
    {
     "data": {
      "text/latex": [
       "$$(0.047283465372 - 0.039755116413 i) |00000000\\rangle+ (0.047283465372 - 0.039755116413 i) |00000001\\rangle+ (0.047283465372 - 0.039755116413 i) |00000010\\rangle+ (0.047283465372 - 0.039755116413 i) |00000011\\rangle+ (0.047283465372 - 0.039755116413 i) |00000100\\rangle+ (0.047283465372 - 0.039755116413 i) |00000101\\rangle + \\ldots + (0.047283465372 - 0.039755116413 i) |11111011\\rangle+ (0.047283465372 - 0.039755116413 i) |11111100\\rangle+ (0.047283465372 - 0.039755116413 i) |11111101\\rangle+ (0.047283465372 - 0.039755116413 i) |11111110\\rangle+ (0.047283465372 - 0.039755116413 i) |11111111\\rangle$$"
      ],
      "text/plain": [
       "<IPython.core.display.Latex object>"
      ]
     },
     "metadata": {},
     "output_type": "display_data"
    },
    {
     "name": "stdout",
     "output_type": "stream",
     "text": [
      "coherence of |ψ2⟩ =  253.68632542501672\n"
     ]
    },
    {
     "data": {
      "text/plain": [
       "'applied Hadamard to all |ψ1⟩'"
      ]
     },
     "metadata": {},
     "output_type": "display_data"
    },
    {
     "data": {
      "text/latex": [
       "$$(0.765796913689 - 0.613722701602 i) |00000000\\rangle+ (-0.009261467732 - 0.022359161006 i) |00000100\\rangle+ (0.009261467732 + 0.022359161006 i) |00001000\\rangle+ (-0.009261467732 - 0.022359161006 i) |00001100\\rangle+ (-0.004630733866 - 0.011179580503 i) |00010000\\rangle+ (-0.004630733866 - 0.011179580503 i) |00010001\\rangle + \\ldots + (0.004630733866 + 0.011179580503 i) |11111011\\rangle+ (-0.004630733866 - 0.011179580503 i) |11111100\\rangle+ (-0.004630733866 - 0.011179580503 i) |11111101\\rangle+ (0.004630733866 + 0.011179580503 i) |11111110\\rangle+ (-0.004630733866 - 0.011179580503 i) |11111111\\rangle$$"
      ],
      "text/plain": [
       "<IPython.core.display.Latex object>"
      ]
     },
     "metadata": {},
     "output_type": "display_data"
    },
    {
     "name": "stdout",
     "output_type": "stream",
     "text": [
      "coherence of |ψ1⟩ =  9.761733149925544\n"
     ]
    },
    {
     "data": {
      "text/plain": [
       "'applied P operator to |ψ4⟩'"
      ]
     },
     "metadata": {},
     "output_type": "display_data"
    },
    {
     "data": {
      "text/latex": [
       "$$(-0.107532706611 + 0.975467674752 i) |00000000\\rangle+ (0.009261467732 + 0.022359161006 i) |00000100\\rangle+ (-0.009261467732 - 0.022359161006 i) |00001000\\rangle+ (0.009261467732 + 0.022359161006 i) |00001100\\rangle+ (0.004630733866 + 0.011179580503 i) |00010000\\rangle+ (0.004630733866 + 0.011179580503 i) |00010001\\rangle + \\ldots + (-0.004630733866 - 0.011179580503 i) |11111011\\rangle+ (0.004630733866 + 0.011179580503 i) |11111100\\rangle+ (0.004630733866 + 0.011179580503 i) |11111101\\rangle+ (-0.004630733866 - 0.011179580503 i) |11111110\\rangle+ (0.004630733866 + 0.011179580503 i) |11111111\\rangle$$"
      ],
      "text/plain": [
       "<IPython.core.display.Latex object>"
      ]
     },
     "metadata": {},
     "output_type": "display_data"
    },
    {
     "name": "stdout",
     "output_type": "stream",
     "text": [
      "coherence of |ψ4⟩ =  9.761733149925544\n"
     ]
    },
    {
     "data": {
      "text/plain": [
       "'applied Hadamard to all |ψ5⟩'"
      ]
     },
     "metadata": {},
     "output_type": "display_data"
    },
    {
     "data": {
      "text/latex": [
       "$$(-0.00614195243 + 0.062364177235 i) |00000000\\rangle+ (-0.00614195243 + 0.062364177235 i) |00000001\\rangle+ (-0.00614195243 + 0.062364177235 i) |00000010\\rangle+ (-0.00614195243 + 0.062364177235 i) |00000011\\rangle+ (-0.00614195243 + 0.062364177235 i) |00000100\\rangle+ (-0.00614195243 + 0.062364177235 i) |00000101\\rangle + \\ldots + (-0.00614195243 + 0.062364177235 i) |11111011\\rangle+ (-0.00614195243 + 0.062364177235 i) |11111100\\rangle+ (-0.00614195243 + 0.062364177235 i) |11111101\\rangle+ (-0.00614195243 + 0.062364177235 i) |11111110\\rangle+ (-0.00614195243 + 0.062364177235 i) |11111111\\rangle$$"
      ],
      "text/plain": [
       "<IPython.core.display.Latex object>"
      ]
     },
     "metadata": {},
     "output_type": "display_data"
    },
    {
     "name": "stdout",
     "output_type": "stream",
     "text": [
      "coherence of |ψ5⟩ =  254.8621500396657\n",
      "======================================== FOR ϕ =  180.0 ========================================\n"
     ]
    },
    {
     "data": {
      "text/plain": [
       "'initialised |ψ0⟩'"
      ]
     },
     "metadata": {},
     "output_type": "display_data"
    },
    {
     "data": {
      "text/latex": [
       "$$ |00000000\\rangle$$"
      ],
      "text/plain": [
       "<IPython.core.display.Latex object>"
      ]
     },
     "metadata": {},
     "output_type": "display_data"
    },
    {
     "name": "stdout",
     "output_type": "stream",
     "text": [
      "coherence of |ψ0⟩ =  0.0\n"
     ]
    },
    {
     "data": {
      "text/plain": [
       "'applied Hadamard to all |ψ1⟩'"
      ]
     },
     "metadata": {},
     "output_type": "display_data"
    },
    {
     "data": {
      "text/latex": [
       "$$\\frac{1}{16} |00000000\\rangle+\\frac{1}{16} |00000001\\rangle+\\frac{1}{16} |00000010\\rangle+\\frac{1}{16} |00000011\\rangle+\\frac{1}{16} |00000100\\rangle+\\frac{1}{16} |00000101\\rangle + \\ldots +\\frac{1}{16} |11111011\\rangle+\\frac{1}{16} |11111100\\rangle+\\frac{1}{16} |11111101\\rangle+\\frac{1}{16} |11111110\\rangle+\\frac{1}{16} |11111111\\rangle$$"
      ],
      "text/plain": [
       "<IPython.core.display.Latex object>"
      ]
     },
     "metadata": {},
     "output_type": "display_data"
    },
    {
     "name": "stdout",
     "output_type": "stream",
     "text": [
      "coherence of |ψ1⟩ =  255.00000000000003\n",
      "-------- 1  ITERATION OF GROVER'S ITERATION--------\n"
     ]
    },
    {
     "data": {
      "text/plain": [
       "'applied O operator to |ψ2⟩'"
      ]
     },
     "metadata": {},
     "output_type": "display_data"
    },
    {
     "data": {
      "text/latex": [
       "$$\\frac{1}{16} |00000000\\rangle+\\frac{1}{16} |00000001\\rangle+\\frac{1}{16} |00000010\\rangle+\\frac{1}{16} |00000011\\rangle+\\frac{1}{16} |00000100\\rangle+\\frac{1}{16} |00000101\\rangle + \\ldots +\\frac{1}{16} |11111011\\rangle+\\frac{1}{16} |11111100\\rangle+\\frac{1}{16} |11111101\\rangle+\\frac{1}{16} |11111110\\rangle+\\frac{1}{16} |11111111\\rangle$$"
      ],
      "text/plain": [
       "<IPython.core.display.Latex object>"
      ]
     },
     "metadata": {},
     "output_type": "display_data"
    },
    {
     "name": "stdout",
     "output_type": "stream",
     "text": [
      "coherence of |ψ2⟩ =  255.00000000000003\n"
     ]
    },
    {
     "data": {
      "text/plain": [
       "'applied Hadamard to all |ψ1⟩'"
      ]
     },
     "metadata": {},
     "output_type": "display_data"
    },
    {
     "data": {
      "text/latex": [
       "$$(0.973326456544 - 0.011048543456 i) |00000000\\rangle+ (0.026673543456 + 0.011048543456 i) |00000100\\rangle+ (-0.026673543456 - 0.011048543456 i) |00001000\\rangle+ (0.026673543456 + 0.011048543456 i) |00001100\\rangle+ (0.013336771728 + 0.005524271728 i) |00010000\\rangle+ (0.013336771728 + 0.005524271728 i) |00010001\\rangle + \\ldots + (-0.013336771728 - 0.005524271728 i) |11111011\\rangle+ (0.013336771728 + 0.005524271728 i) |11111100\\rangle+ (0.013336771728 + 0.005524271728 i) |11111101\\rangle+ (-0.013336771728 - 0.005524271728 i) |11111110\\rangle+ (0.013336771728 + 0.005524271728 i) |11111111\\rangle$$"
      ],
      "text/plain": [
       "<IPython.core.display.Latex object>"
      ]
     },
     "metadata": {},
     "output_type": "display_data"
    },
    {
     "name": "stdout",
     "output_type": "stream",
     "text": [
      "coherence of |ψ1⟩ =  12.809819314304601\n"
     ]
    },
    {
     "data": {
      "text/plain": [
       "'applied P operator to |ψ4⟩'"
      ]
     },
     "metadata": {},
     "output_type": "display_data"
    },
    {
     "data": {
      "text/latex": [
       "$$(-0.973326456544 + 0.011048543456 i) |00000000\\rangle+ (-0.026673543456 - 0.011048543456 i) |00000100\\rangle+ (0.026673543456 + 0.011048543456 i) |00001000\\rangle+ (-0.026673543456 - 0.011048543456 i) |00001100\\rangle+ (-0.013336771728 - 0.005524271728 i) |00010000\\rangle+ (-0.013336771728 - 0.005524271728 i) |00010001\\rangle + \\ldots + (0.013336771728 + 0.005524271728 i) |11111011\\rangle+ (-0.013336771728 - 0.005524271728 i) |11111100\\rangle+ (-0.013336771728 - 0.005524271728 i) |11111101\\rangle+ (0.013336771728 + 0.005524271728 i) |11111110\\rangle+ (-0.013336771728 - 0.005524271728 i) |11111111\\rangle$$"
      ],
      "text/plain": [
       "<IPython.core.display.Latex object>"
      ]
     },
     "metadata": {},
     "output_type": "display_data"
    },
    {
     "name": "stdout",
     "output_type": "stream",
     "text": [
      "coherence of |ψ4⟩ =  12.809819314304601\n"
     ]
    },
    {
     "data": {
      "text/plain": [
       "'applied Hadamard to all |ψ5⟩'"
      ]
     },
     "metadata": {},
     "output_type": "display_data"
    },
    {
     "data": {
      "text/latex": [
       "$$- \\frac{1}{16} |00000000\\rangle- \\frac{1}{16} |00000001\\rangle- \\frac{1}{16} |00000010\\rangle- \\frac{1}{16} |00000011\\rangle- \\frac{1}{16} |00000100\\rangle- \\frac{1}{16} |00000101\\rangle + \\ldots - \\frac{1}{16} |11111011\\rangle- \\frac{1}{16} |11111100\\rangle- \\frac{1}{16} |11111101\\rangle- \\frac{1}{16} |11111110\\rangle- \\frac{1}{16} |11111111\\rangle$$"
      ],
      "text/plain": [
       "<IPython.core.display.Latex object>"
      ]
     },
     "metadata": {},
     "output_type": "display_data"
    },
    {
     "name": "stdout",
     "output_type": "stream",
     "text": [
      "coherence of |ψ5⟩ =  255.00000000000003\n",
      "-------- 2  ITERATION OF GROVER'S ITERATION--------\n"
     ]
    },
    {
     "data": {
      "text/plain": [
       "'applied O operator to |ψ2⟩'"
      ]
     },
     "metadata": {},
     "output_type": "display_data"
    },
    {
     "data": {
      "text/latex": [
       "$$- \\frac{1}{16} |00000000\\rangle- \\frac{1}{16} |00000001\\rangle- \\frac{1}{16} |00000010\\rangle- \\frac{1}{16} |00000011\\rangle- \\frac{1}{16} |00000100\\rangle- \\frac{1}{16} |00000101\\rangle + \\ldots - \\frac{1}{16} |11111011\\rangle- \\frac{1}{16} |11111100\\rangle- \\frac{1}{16} |11111101\\rangle- \\frac{1}{16} |11111110\\rangle- \\frac{1}{16} |11111111\\rangle$$"
      ],
      "text/plain": [
       "<IPython.core.display.Latex object>"
      ]
     },
     "metadata": {},
     "output_type": "display_data"
    },
    {
     "name": "stdout",
     "output_type": "stream",
     "text": [
      "coherence of |ψ2⟩ =  255.00000000000003\n"
     ]
    },
    {
     "data": {
      "text/plain": [
       "'applied Hadamard to all |ψ1⟩'"
      ]
     },
     "metadata": {},
     "output_type": "display_data"
    },
    {
     "data": {
      "text/latex": [
       "$$(- \\frac{63}{64} - \\frac{i}{64}) |00000000\\rangle+ (- \\frac{1}{64} + \\frac{i}{64}) |00000100\\rangle+ (\\frac{1}{64} - \\frac{i}{64}) |00001000\\rangle+ (- \\frac{1}{64} + \\frac{i}{64}) |00001100\\rangle+ (- \\frac{1}{128} + \\frac{i}{128}) |00010000\\rangle+ (- \\frac{1}{128} + \\frac{i}{128}) |00010001\\rangle + \\ldots + (\\frac{1}{128} - \\frac{i}{128}) |11111011\\rangle+ (- \\frac{1}{128} + \\frac{i}{128}) |11111100\\rangle+ (- \\frac{1}{128} + \\frac{i}{128}) |11111101\\rangle+ (\\frac{1}{128} - \\frac{i}{128}) |11111110\\rangle+ (- \\frac{1}{128} + \\frac{i}{128}) |11111111\\rangle$$"
      ],
      "text/plain": [
       "<IPython.core.display.Latex object>"
      ]
     },
     "metadata": {},
     "output_type": "display_data"
    },
    {
     "name": "stdout",
     "output_type": "stream",
     "text": [
      "coherence of |ψ1⟩ =  8.509342956923506\n"
     ]
    },
    {
     "data": {
      "text/plain": [
       "'applied P operator to |ψ4⟩'"
      ]
     },
     "metadata": {},
     "output_type": "display_data"
    },
    {
     "data": {
      "text/latex": [
       "$$(\\frac{63}{64} + \\frac{i}{64}) |00000000\\rangle+ (\\frac{1}{64} - \\frac{i}{64}) |00000100\\rangle+ (- \\frac{1}{64} + \\frac{i}{64}) |00001000\\rangle+ (\\frac{1}{64} - \\frac{i}{64}) |00001100\\rangle+ (\\frac{1}{128} - \\frac{i}{128}) |00010000\\rangle+ (\\frac{1}{128} - \\frac{i}{128}) |00010001\\rangle + \\ldots + (- \\frac{1}{128} + \\frac{i}{128}) |11111011\\rangle+ (\\frac{1}{128} - \\frac{i}{128}) |11111100\\rangle+ (\\frac{1}{128} - \\frac{i}{128}) |11111101\\rangle+ (- \\frac{1}{128} + \\frac{i}{128}) |11111110\\rangle+ (\\frac{1}{128} - \\frac{i}{128}) |11111111\\rangle$$"
      ],
      "text/plain": [
       "<IPython.core.display.Latex object>"
      ]
     },
     "metadata": {},
     "output_type": "display_data"
    },
    {
     "name": "stdout",
     "output_type": "stream",
     "text": [
      "coherence of |ψ4⟩ =  8.509342956923506\n"
     ]
    },
    {
     "data": {
      "text/plain": [
       "'applied Hadamard to all |ψ5⟩'"
      ]
     },
     "metadata": {},
     "output_type": "display_data"
    },
    {
     "data": {
      "text/latex": [
       "$$\\frac{1}{16} |00000000\\rangle+\\frac{1}{16} |00000001\\rangle+\\frac{1}{16} |00000010\\rangle+\\frac{1}{16} |00000011\\rangle+\\frac{1}{16} |00000100\\rangle+\\frac{1}{16} |00000101\\rangle + \\ldots +\\frac{1}{16} |11111011\\rangle+\\frac{1}{16} |11111100\\rangle+\\frac{1}{16} |11111101\\rangle+\\frac{1}{16} |11111110\\rangle+\\frac{1}{16} |11111111\\rangle$$"
      ],
      "text/plain": [
       "<IPython.core.display.Latex object>"
      ]
     },
     "metadata": {},
     "output_type": "display_data"
    },
    {
     "name": "stdout",
     "output_type": "stream",
     "text": [
      "coherence of |ψ5⟩ =  255.00000000000003\n",
      "-------- 3  ITERATION OF GROVER'S ITERATION--------\n"
     ]
    },
    {
     "data": {
      "text/plain": [
       "'applied O operator to |ψ2⟩'"
      ]
     },
     "metadata": {},
     "output_type": "display_data"
    },
    {
     "data": {
      "text/latex": [
       "$$\\frac{1}{16} |00000000\\rangle+\\frac{1}{16} |00000001\\rangle+\\frac{1}{16} |00000010\\rangle+\\frac{1}{16} |00000011\\rangle+\\frac{1}{16} |00000100\\rangle+\\frac{1}{16} |00000101\\rangle + \\ldots +\\frac{1}{16} |11111011\\rangle+\\frac{1}{16} |11111100\\rangle+\\frac{1}{16} |11111101\\rangle+\\frac{1}{16} |11111110\\rangle+\\frac{1}{16} |11111111\\rangle$$"
      ],
      "text/plain": [
       "<IPython.core.display.Latex object>"
      ]
     },
     "metadata": {},
     "output_type": "display_data"
    },
    {
     "name": "stdout",
     "output_type": "stream",
     "text": [
      "coherence of |ψ2⟩ =  255.00000000000003\n"
     ]
    },
    {
     "data": {
      "text/plain": [
       "'applied Hadamard to all |ψ1⟩'"
      ]
     },
     "metadata": {},
     "output_type": "display_data"
    },
    {
     "data": {
      "text/latex": [
       "$$(0.995423543456 - 0.011048543456 i) |00000000\\rangle+ (0.004576456544 + 0.011048543456 i) |00000100\\rangle+ (-0.004576456544 - 0.011048543456 i) |00001000\\rangle+ (0.004576456544 + 0.011048543456 i) |00001100\\rangle+ (0.002288228272 + 0.005524271728 i) |00010000\\rangle+ (0.002288228272 + 0.005524271728 i) |00010001\\rangle + \\ldots + (-0.002288228272 - 0.005524271728 i) |11111011\\rangle+ (0.002288228272 + 0.005524271728 i) |11111100\\rangle+ (0.002288228272 + 0.005524271728 i) |11111101\\rangle+ (-0.002288228272 - 0.005524271728 i) |11111110\\rangle+ (0.002288228272 + 0.005524271728 i) |11111111\\rangle$$"
      ],
      "text/plain": [
       "<IPython.core.display.Latex object>"
      ]
     },
     "metadata": {},
     "output_type": "display_data"
    },
    {
     "name": "stdout",
     "output_type": "stream",
     "text": [
      "coherence of |ψ1⟩ =  3.543617510644895\n"
     ]
    },
    {
     "data": {
      "text/plain": [
       "'applied P operator to |ψ4⟩'"
      ]
     },
     "metadata": {},
     "output_type": "display_data"
    },
    {
     "data": {
      "text/latex": [
       "$$(-0.995423543456 + 0.011048543456 i) |00000000\\rangle+ (-0.004576456544 - 0.011048543456 i) |00000100\\rangle+ (0.004576456544 + 0.011048543456 i) |00001000\\rangle+ (-0.004576456544 - 0.011048543456 i) |00001100\\rangle+ (-0.002288228272 - 0.005524271728 i) |00010000\\rangle+ (-0.002288228272 - 0.005524271728 i) |00010001\\rangle + \\ldots + (0.002288228272 + 0.005524271728 i) |11111011\\rangle+ (-0.002288228272 - 0.005524271728 i) |11111100\\rangle+ (-0.002288228272 - 0.005524271728 i) |11111101\\rangle+ (0.002288228272 + 0.005524271728 i) |11111110\\rangle+ (-0.002288228272 - 0.005524271728 i) |11111111\\rangle$$"
      ],
      "text/plain": [
       "<IPython.core.display.Latex object>"
      ]
     },
     "metadata": {},
     "output_type": "display_data"
    },
    {
     "name": "stdout",
     "output_type": "stream",
     "text": [
      "coherence of |ψ4⟩ =  3.543617510644895\n"
     ]
    },
    {
     "data": {
      "text/plain": [
       "'applied Hadamard to all |ψ5⟩'"
      ]
     },
     "metadata": {},
     "output_type": "display_data"
    },
    {
     "data": {
      "text/latex": [
       "$$- \\frac{1}{16} |00000000\\rangle- \\frac{1}{16} |00000001\\rangle- \\frac{1}{16} |00000010\\rangle- \\frac{1}{16} |00000011\\rangle- \\frac{1}{16} |00000100\\rangle- \\frac{1}{16} |00000101\\rangle + \\ldots - \\frac{1}{16} |11111011\\rangle- \\frac{1}{16} |11111100\\rangle- \\frac{1}{16} |11111101\\rangle- \\frac{1}{16} |11111110\\rangle- \\frac{1}{16} |11111111\\rangle$$"
      ],
      "text/plain": [
       "<IPython.core.display.Latex object>"
      ]
     },
     "metadata": {},
     "output_type": "display_data"
    },
    {
     "name": "stdout",
     "output_type": "stream",
     "text": [
      "coherence of |ψ5⟩ =  255.00000000000003\n",
      "-------- 4  ITERATION OF GROVER'S ITERATION--------\n"
     ]
    },
    {
     "data": {
      "text/plain": [
       "'applied O operator to |ψ2⟩'"
      ]
     },
     "metadata": {},
     "output_type": "display_data"
    },
    {
     "data": {
      "text/latex": [
       "$$- \\frac{1}{16} |00000000\\rangle- \\frac{1}{16} |00000001\\rangle- \\frac{1}{16} |00000010\\rangle- \\frac{1}{16} |00000011\\rangle- \\frac{1}{16} |00000100\\rangle- \\frac{1}{16} |00000101\\rangle + \\ldots - \\frac{1}{16} |11111011\\rangle- \\frac{1}{16} |11111100\\rangle- \\frac{1}{16} |11111101\\rangle- \\frac{1}{16} |11111110\\rangle- \\frac{1}{16} |11111111\\rangle$$"
      ],
      "text/plain": [
       "<IPython.core.display.Latex object>"
      ]
     },
     "metadata": {},
     "output_type": "display_data"
    },
    {
     "name": "stdout",
     "output_type": "stream",
     "text": [
      "coherence of |ψ2⟩ =  255.00000000000003\n"
     ]
    },
    {
     "data": {
      "text/plain": [
       "'applied Hadamard to all |ψ1⟩'"
      ]
     },
     "metadata": {},
     "output_type": "display_data"
    },
    {
     "data": {
      "text/latex": [
       "$$- \\frac{31}{32} |00000000\\rangle- \\frac{1}{32} |00000100\\rangle+\\frac{1}{32} |00001000\\rangle- \\frac{1}{32} |00001100\\rangle- \\frac{1}{64} |00010000\\rangle- \\frac{1}{64} |00010001\\rangle + \\ldots +\\frac{1}{64} |11111011\\rangle- \\frac{1}{64} |11111100\\rangle- \\frac{1}{64} |11111101\\rangle+\\frac{1}{64} |11111110\\rangle- \\frac{1}{64} |11111111\\rangle$$"
      ],
      "text/plain": [
       "<IPython.core.display.Latex object>"
      ]
     },
     "metadata": {},
     "output_type": "display_data"
    },
    {
     "name": "stdout",
     "output_type": "stream",
     "text": [
      "coherence of |ψ1⟩ =  14.503906250000016\n"
     ]
    },
    {
     "data": {
      "text/plain": [
       "'applied P operator to |ψ4⟩'"
      ]
     },
     "metadata": {},
     "output_type": "display_data"
    },
    {
     "data": {
      "text/latex": [
       "$$\\frac{31}{32} |00000000\\rangle+\\frac{1}{32} |00000100\\rangle- \\frac{1}{32} |00001000\\rangle+\\frac{1}{32} |00001100\\rangle+\\frac{1}{64} |00010000\\rangle+\\frac{1}{64} |00010001\\rangle + \\ldots - \\frac{1}{64} |11111011\\rangle+\\frac{1}{64} |11111100\\rangle+\\frac{1}{64} |11111101\\rangle- \\frac{1}{64} |11111110\\rangle+\\frac{1}{64} |11111111\\rangle$$"
      ],
      "text/plain": [
       "<IPython.core.display.Latex object>"
      ]
     },
     "metadata": {},
     "output_type": "display_data"
    },
    {
     "name": "stdout",
     "output_type": "stream",
     "text": [
      "coherence of |ψ4⟩ =  14.503906250000016\n"
     ]
    },
    {
     "data": {
      "text/plain": [
       "'applied Hadamard to all |ψ5⟩'"
      ]
     },
     "metadata": {},
     "output_type": "display_data"
    },
    {
     "data": {
      "text/latex": [
       "$$\\frac{1}{16} |00000000\\rangle+\\frac{1}{16} |00000001\\rangle+\\frac{1}{16} |00000010\\rangle+\\frac{1}{16} |00000011\\rangle+\\frac{1}{16} |00000100\\rangle+\\frac{1}{16} |00000101\\rangle + \\ldots +\\frac{1}{16} |11111011\\rangle+\\frac{1}{16} |11111100\\rangle+\\frac{1}{16} |11111101\\rangle+\\frac{1}{16} |11111110\\rangle+\\frac{1}{16} |11111111\\rangle$$"
      ],
      "text/plain": [
       "<IPython.core.display.Latex object>"
      ]
     },
     "metadata": {},
     "output_type": "display_data"
    },
    {
     "name": "stdout",
     "output_type": "stream",
     "text": [
      "coherence of |ψ5⟩ =  255.00000000000003\n",
      "-------- 5  ITERATION OF GROVER'S ITERATION--------\n"
     ]
    },
    {
     "data": {
      "text/plain": [
       "'applied O operator to |ψ2⟩'"
      ]
     },
     "metadata": {},
     "output_type": "display_data"
    },
    {
     "data": {
      "text/latex": [
       "$$\\frac{1}{16} |00000000\\rangle+\\frac{1}{16} |00000001\\rangle+\\frac{1}{16} |00000010\\rangle+\\frac{1}{16} |00000011\\rangle+\\frac{1}{16} |00000100\\rangle+\\frac{1}{16} |00000101\\rangle + \\ldots +\\frac{1}{16} |11111011\\rangle+\\frac{1}{16} |11111100\\rangle+\\frac{1}{16} |11111101\\rangle+\\frac{1}{16} |11111110\\rangle+\\frac{1}{16} |11111111\\rangle$$"
      ],
      "text/plain": [
       "<IPython.core.display.Latex object>"
      ]
     },
     "metadata": {},
     "output_type": "display_data"
    },
    {
     "name": "stdout",
     "output_type": "stream",
     "text": [
      "coherence of |ψ2⟩ =  255.00000000000003\n"
     ]
    },
    {
     "data": {
      "text/plain": [
       "'applied Hadamard to all |ψ1⟩'"
      ]
     },
     "metadata": {},
     "output_type": "display_data"
    },
    {
     "data": {
      "text/latex": [
       "$$(0.995423543456 + 0.011048543456 i) |00000000\\rangle+ (0.004576456544 - 0.011048543456 i) |00000100\\rangle+ (-0.004576456544 + 0.011048543456 i) |00001000\\rangle+ (0.004576456544 - 0.011048543456 i) |00001100\\rangle+ (0.002288228272 - 0.005524271728 i) |00010000\\rangle+ (0.002288228272 - 0.005524271728 i) |00010001\\rangle + \\ldots + (-0.002288228272 + 0.005524271728 i) |11111011\\rangle+ (0.002288228272 - 0.005524271728 i) |11111100\\rangle+ (0.002288228272 - 0.005524271728 i) |11111101\\rangle+ (-0.002288228272 + 0.005524271728 i) |11111110\\rangle+ (0.002288228272 - 0.005524271728 i) |11111111\\rangle$$"
      ],
      "text/plain": [
       "<IPython.core.display.Latex object>"
      ]
     },
     "metadata": {},
     "output_type": "display_data"
    },
    {
     "name": "stdout",
     "output_type": "stream",
     "text": [
      "coherence of |ψ1⟩ =  3.543617510644901\n"
     ]
    },
    {
     "data": {
      "text/plain": [
       "'applied P operator to |ψ4⟩'"
      ]
     },
     "metadata": {},
     "output_type": "display_data"
    },
    {
     "data": {
      "text/latex": [
       "$$(-0.995423543456 - 0.011048543456 i) |00000000\\rangle+ (-0.004576456544 + 0.011048543456 i) |00000100\\rangle+ (0.004576456544 - 0.011048543456 i) |00001000\\rangle+ (-0.004576456544 + 0.011048543456 i) |00001100\\rangle+ (-0.002288228272 + 0.005524271728 i) |00010000\\rangle+ (-0.002288228272 + 0.005524271728 i) |00010001\\rangle + \\ldots + (0.002288228272 - 0.005524271728 i) |11111011\\rangle+ (-0.002288228272 + 0.005524271728 i) |11111100\\rangle+ (-0.002288228272 + 0.005524271728 i) |11111101\\rangle+ (0.002288228272 - 0.005524271728 i) |11111110\\rangle+ (-0.002288228272 + 0.005524271728 i) |11111111\\rangle$$"
      ],
      "text/plain": [
       "<IPython.core.display.Latex object>"
      ]
     },
     "metadata": {},
     "output_type": "display_data"
    },
    {
     "name": "stdout",
     "output_type": "stream",
     "text": [
      "coherence of |ψ4⟩ =  3.543617510644901\n"
     ]
    },
    {
     "data": {
      "text/plain": [
       "'applied Hadamard to all |ψ5⟩'"
      ]
     },
     "metadata": {},
     "output_type": "display_data"
    },
    {
     "data": {
      "text/latex": [
       "$$- \\frac{1}{16} |00000000\\rangle- \\frac{1}{16} |00000001\\rangle- \\frac{1}{16} |00000010\\rangle- \\frac{1}{16} |00000011\\rangle- \\frac{1}{16} |00000100\\rangle- \\frac{1}{16} |00000101\\rangle + \\ldots - \\frac{1}{16} |11111011\\rangle- \\frac{1}{16} |11111100\\rangle- \\frac{1}{16} |11111101\\rangle- \\frac{1}{16} |11111110\\rangle- \\frac{1}{16} |11111111\\rangle$$"
      ],
      "text/plain": [
       "<IPython.core.display.Latex object>"
      ]
     },
     "metadata": {},
     "output_type": "display_data"
    },
    {
     "name": "stdout",
     "output_type": "stream",
     "text": [
      "coherence of |ψ5⟩ =  255.00000000000003\n",
      "-------- 6  ITERATION OF GROVER'S ITERATION--------\n"
     ]
    },
    {
     "data": {
      "text/plain": [
       "'applied O operator to |ψ2⟩'"
      ]
     },
     "metadata": {},
     "output_type": "display_data"
    },
    {
     "data": {
      "text/latex": [
       "$$- \\frac{1}{16} |00000000\\rangle- \\frac{1}{16} |00000001\\rangle- \\frac{1}{16} |00000010\\rangle- \\frac{1}{16} |00000011\\rangle- \\frac{1}{16} |00000100\\rangle- \\frac{1}{16} |00000101\\rangle + \\ldots - \\frac{1}{16} |11111011\\rangle- \\frac{1}{16} |11111100\\rangle- \\frac{1}{16} |11111101\\rangle- \\frac{1}{16} |11111110\\rangle- \\frac{1}{16} |11111111\\rangle$$"
      ],
      "text/plain": [
       "<IPython.core.display.Latex object>"
      ]
     },
     "metadata": {},
     "output_type": "display_data"
    },
    {
     "name": "stdout",
     "output_type": "stream",
     "text": [
      "coherence of |ψ2⟩ =  255.00000000000003\n"
     ]
    },
    {
     "data": {
      "text/plain": [
       "'applied Hadamard to all |ψ1⟩'"
      ]
     },
     "metadata": {},
     "output_type": "display_data"
    },
    {
     "data": {
      "text/latex": [
       "$$(- \\frac{63}{64} + \\frac{i}{64}) |00000000\\rangle+ (- \\frac{1}{64} - \\frac{i}{64}) |00000100\\rangle+ (\\frac{1}{64} + \\frac{i}{64}) |00001000\\rangle+ (- \\frac{1}{64} - \\frac{i}{64}) |00001100\\rangle+ (- \\frac{1}{128} - \\frac{i}{128}) |00010000\\rangle+ (- \\frac{1}{128} - \\frac{i}{128}) |00010001\\rangle + \\ldots + (\\frac{1}{128} + \\frac{i}{128}) |11111011\\rangle+ (- \\frac{1}{128} - \\frac{i}{128}) |11111100\\rangle+ (- \\frac{1}{128} - \\frac{i}{128}) |11111101\\rangle+ (\\frac{1}{128} + \\frac{i}{128}) |11111110\\rangle+ (- \\frac{1}{128} - \\frac{i}{128}) |11111111\\rangle$$"
      ],
      "text/plain": [
       "<IPython.core.display.Latex object>"
      ]
     },
     "metadata": {},
     "output_type": "display_data"
    },
    {
     "name": "stdout",
     "output_type": "stream",
     "text": [
      "coherence of |ψ1⟩ =  8.509342956923541\n"
     ]
    },
    {
     "data": {
      "text/plain": [
       "'applied P operator to |ψ4⟩'"
      ]
     },
     "metadata": {},
     "output_type": "display_data"
    },
    {
     "data": {
      "text/latex": [
       "$$(\\frac{63}{64} - \\frac{i}{64}) |00000000\\rangle+ (\\frac{1}{64} + \\frac{i}{64}) |00000100\\rangle+ (- \\frac{1}{64} - \\frac{i}{64}) |00001000\\rangle+ (\\frac{1}{64} + \\frac{i}{64}) |00001100\\rangle+ (\\frac{1}{128} + \\frac{i}{128}) |00010000\\rangle+ (\\frac{1}{128} + \\frac{i}{128}) |00010001\\rangle + \\ldots + (- \\frac{1}{128} - \\frac{i}{128}) |11111011\\rangle+ (\\frac{1}{128} + \\frac{i}{128}) |11111100\\rangle+ (\\frac{1}{128} + \\frac{i}{128}) |11111101\\rangle+ (- \\frac{1}{128} - \\frac{i}{128}) |11111110\\rangle+ (\\frac{1}{128} + \\frac{i}{128}) |11111111\\rangle$$"
      ],
      "text/plain": [
       "<IPython.core.display.Latex object>"
      ]
     },
     "metadata": {},
     "output_type": "display_data"
    },
    {
     "name": "stdout",
     "output_type": "stream",
     "text": [
      "coherence of |ψ4⟩ =  8.509342956923541\n"
     ]
    },
    {
     "data": {
      "text/plain": [
       "'applied Hadamard to all |ψ5⟩'"
      ]
     },
     "metadata": {},
     "output_type": "display_data"
    },
    {
     "data": {
      "text/latex": [
       "$$\\frac{1}{16} |00000000\\rangle+\\frac{1}{16} |00000001\\rangle+\\frac{1}{16} |00000010\\rangle+\\frac{1}{16} |00000011\\rangle+\\frac{1}{16} |00000100\\rangle+\\frac{1}{16} |00000101\\rangle + \\ldots +\\frac{1}{16} |11111011\\rangle+\\frac{1}{16} |11111100\\rangle+\\frac{1}{16} |11111101\\rangle+\\frac{1}{16} |11111110\\rangle+\\frac{1}{16} |11111111\\rangle$$"
      ],
      "text/plain": [
       "<IPython.core.display.Latex object>"
      ]
     },
     "metadata": {},
     "output_type": "display_data"
    },
    {
     "name": "stdout",
     "output_type": "stream",
     "text": [
      "coherence of |ψ5⟩ =  255.00000000000003\n"
     ]
    }
   ],
   "source": [
    "def iteration(i,a):\n",
    "    qc.barrier()\n",
    "    count = i*4\n",
    "    qc.append(O_operator,length)\n",
    "    result = execute(qc, backend).result()\n",
    "    state = result.get_statevector()\n",
    "    display(\"applied O operator to |ψ2⟩\", state.draw('latex'))\n",
    "    density_operator = state.to_operator()\n",
    "    coherence = 0\n",
    "    for i in range(N):\n",
    "        for j in range(N):\n",
    "            if(i != j):\n",
    "                coherence += abs(density_operator.data[i,j])\n",
    "    print(\"coherence of |ψ2⟩ = \",coherence)\n",
    "    data[a][count] = coherence\n",
    "\n",
    "    qc.h(length)\n",
    "    result = execute(qc, backend).result()\n",
    "    state = result.get_statevector()\n",
    "    display(\"applied Hadamard to all |ψ1⟩\", state.draw('latex'))\n",
    "    density_operator = state.to_operator()\n",
    "    coherence = 0\n",
    "    for i in range(N):\n",
    "        for j in range(N):\n",
    "            if(i != j):\n",
    "                coherence += abs(density_operator.data[i,j])\n",
    "    print(\"coherence of |ψ1⟩ = \",coherence)\n",
    "    data[a][count+1] = coherence\n",
    "\n",
    "    qc.append(P_operator,length)\n",
    "    result = execute(qc, backend).result()\n",
    "    state = result.get_statevector()\n",
    "    display(\"applied P operator to |ψ4⟩\", state.draw('latex'))\n",
    "    density_operator = state.to_operator()\n",
    "    coherence = 0\n",
    "    for i in range(N):\n",
    "        for j in range(N):\n",
    "            if(i != j):\n",
    "                coherence += abs(density_operator.data[i,j])\n",
    "    print(\"coherence of |ψ4⟩ = \",coherence)\n",
    "    data[a][count+2] = coherence\n",
    "\n",
    "    qc.h(length)\n",
    "    result = execute(qc, backend).result()\n",
    "    state = result.get_statevector()\n",
    "    display(\"applied Hadamard to all |ψ5⟩\", state.draw('latex'))\n",
    "    density_operator = state.to_operator()\n",
    "    coherence = 0\n",
    "    for i in range(N):\n",
    "        for j in range(N):\n",
    "            if(i != j):\n",
    "                coherence += abs(density_operator.data[i,j])\n",
    "    print(\"coherence of |ψ5⟩ = \",coherence)\n",
    "    data[a][count+3] = coherence\n",
    "\n",
    "for a in range(len(phi)):\n",
    "    print(\"======================================== FOR ϕ = \", phi[a]*180/np.pi,\"========================================\")\n",
    "    qc = QuantumCircuit(n)\n",
    "    backend = Aer.get_backend('statevector_simulator')\n",
    "    result = execute(qc, backend).result()\n",
    "    state = result.get_statevector()\n",
    "    display(\"initialised |ψ0⟩\", state.draw('latex'))\n",
    "    density_operator = state.to_operator()\n",
    "    #print(density_operator.data)\n",
    "    coherence = 0\n",
    "    for i in range(N):\n",
    "        for j in range(N):\n",
    "            if(i != j):\n",
    "                coherence += abs(density_operator.data[i,j])\n",
    "    print(\"coherence of |ψ0⟩ = \",coherence)\n",
    "\n",
    "    qc.h(length)\n",
    "    result = execute(qc, backend).result()\n",
    "    state = result.get_statevector()\n",
    "    display(\"applied Hadamard to all |ψ1⟩\", state.draw('latex'))\n",
    "    density_operator = state.to_operator()\n",
    "    #print(density_operator.data)\n",
    "    coherence = 0\n",
    "    for i in range(N):\n",
    "        for j in range(N):\n",
    "            if(i != j):\n",
    "                coherence += abs(density_operator.data[i,j])\n",
    "    print(\"coherence of |ψ1⟩ = \",coherence)\n",
    "\n",
    "    #defining generalised O Operator\n",
    "    count = 0\n",
    "    choice = a\n",
    "    O_operator = Operator(np.zeros((N,N)))\n",
    "    for i in range(N):\n",
    "        for j in range(N):\n",
    "            if(i != j):   #off diagonal elements\n",
    "                O_operator.data[i][j] = 0\n",
    "            else:    #diagonal elements\n",
    "                flag = 0\n",
    "                for k in range(t):\n",
    "                    if(i == target[k]):\n",
    "                        O_operator.data[i][j] = x[choice]\n",
    "                        count += 1\n",
    "                        flag = 1\n",
    "                        break\n",
    "                if(flag == 0):\n",
    "                    O_operator.data[i][j] = 1            \n",
    "\n",
    "    #defining generalised P Operator\n",
    "    P_operator = Operator(np.zeros((N,N)))\n",
    "    for i in range(N):\n",
    "        for j in range(N):\n",
    "            if(i != j):    #off-diagonal elements\n",
    "                P_operator.data[i][j] = 0\n",
    "            else:\n",
    "                if(i==0 & j==0):   #for 1st element only\n",
    "                    P_operator.data[i][j] = e_iphi[choice]\n",
    "                else:\n",
    "                    P_operator.data[i][j] = -1\n",
    "\n",
    "    #sending out for x iterations of grover's operator\n",
    "    for i in range(noi):\n",
    "        print(\"--------\",(i+1),\" ITERATION OF GROVER'S ITERATION--------\")\n",
    "        iteration(i,a)"
   ]
  },
  {
   "cell_type": "code",
   "execution_count": 69,
   "id": "e27d9259",
   "metadata": {
    "scrolled": false
   },
   "outputs": [
    {
     "data": {
      "image/png": "[encoded data removed]",
      "text/plain": [
       "<Figure size 1000x1000 with 4 Axes>"
      ]
     },
     "metadata": {},
     "output_type": "display_data"
    }
   ],
   "source": [
    "data_N = [a/N for a in data]\n",
    "xa     = [a/4 for a in x_axis]\n",
    "\n",
    "a = len(phi)//2\n",
    "b = len(phi)//a\n",
    "fig, axs = pl.subplots(a,b, figsize=(10,10))\n",
    "count = 0\n",
    "for i in range(a):\n",
    "    for j in range(b):\n",
    "        axs[i,j].scatter(xa[::4], data_N[count][::4], color='red', label='O')\n",
    "        axs[i,j].scatter(xa[1::4], data_N[count][1::4], color='blue', marker='<', label='H')\n",
    "        axs[i,j].scatter(xa[2::4], data_N[count][2::4], color='black', marker='>', label='P')\n",
    "        axs[i,j].scatter(xa[3::4], data_N[count][3::4], color='green', marker='d', label='H')\n",
    "        axs[i,j].plot(xa, data_N[count])\n",
    "        axs[i,j].set_title(\"φ = \" + str(phi[count]*180/np.pi))\n",
    "        count += 1\n",
    "        pl.subplots_adjust(top=1, right=1.5)\n",
    "pl.show()"
   ]
  },
  {
   "cell_type": "code",
   "execution_count": 47,
   "id": "07aadb93",
   "metadata": {},
   "outputs": [
    {
     "name": "stdout",
     "output_type": "stream",
     "text": [
      "O_operator =  Operator([[ 1.+0.0000000e+00j,  0.+0.0000000e+00j,  0.+0.0000000e+00j,\n",
      "            0.+0.0000000e+00j],\n",
      "          [ 0.+0.0000000e+00j,  1.+0.0000000e+00j,  0.+0.0000000e+00j,\n",
      "            0.+0.0000000e+00j],\n",
      "          [ 0.+0.0000000e+00j,  0.+0.0000000e+00j, -1.+1.2246468e-16j,\n",
      "            0.+0.0000000e+00j],\n",
      "          [ 0.+0.0000000e+00j,  0.+0.0000000e+00j,  0.+0.0000000e+00j,\n",
      "            1.+0.0000000e+00j]],\n",
      "         input_dims=(2, 2), output_dims=(2, 2))\n",
      "P_operator =  Operator([[-1.+1.2246468e-16j,  0.+0.0000000e+00j,  0.+0.0000000e+00j,\n",
      "            0.+0.0000000e+00j],\n",
      "          [ 0.+0.0000000e+00j, -1.+0.0000000e+00j,  0.+0.0000000e+00j,\n",
      "            0.+0.0000000e+00j],\n",
      "          [ 0.+0.0000000e+00j,  0.+0.0000000e+00j, -1.+0.0000000e+00j,\n",
      "            0.+0.0000000e+00j],\n",
      "          [ 0.+0.0000000e+00j,  0.+0.0000000e+00j,  0.+0.0000000e+00j,\n",
      "           -1.+0.0000000e+00j]],\n",
      "         input_dims=(2, 2), output_dims=(2, 2))\n"
     ]
    }
   ],
   "source": [
    "count = 0\n",
    "choice = 0\n",
    "O_operator = Operator(np.zeros((N,N)))\n",
    "for i in range(N):\n",
    "    for j in range(N):\n",
    "        if(i != j):   #off diagonal elements\n",
    "            O_operator.data[i][j] = 0\n",
    "        else:    #diagonal elements\n",
    "            flag = 0\n",
    "            for k in range(t):\n",
    "                if(i == target[k]):\n",
    "                    O_operator.data[i][j] = x[choice]\n",
    "                    count += 1\n",
    "                    flag = 1\n",
    "                    break\n",
    "            if(flag == 0):\n",
    "                O_operator.data[i][j] = 1  \n",
    "print(\"O_operator = \",O_operator)\n",
    "\n",
    "#defining P Operator\n",
    "P_operator = Operator(np.zeros((N,N)))\n",
    "for i in range(N):\n",
    "    for j in range(N):\n",
    "        if(i != j):    #off-diagonal elements\n",
    "            P_operator.data[i][j] = 0\n",
    "        else:\n",
    "            if(i==0 & j==0):   #for 1st element only\n",
    "                P_operator.data[i][j] = x[choice]\n",
    "            else:\n",
    "                P_operator.data[i][j] = -1\n",
    "print(\"P_operator = \",P_operator)"
   ]
  },
  {
   "cell_type": "code",
   "execution_count": null,
   "id": "c4d7b265",
   "metadata": {},
   "outputs": [],
   "source": []
  }
 ],
 "metadata": {
  "kernelspec": {
   "display_name": "Python 3 (ipykernel)",
   "language": "python",
   "name": "python3"
  },
  "language_info": {
   "codemirror_mode": {
    "name": "ipython",
    "version": 3
   },
   "file_extension": ".py",
   "mimetype": "text/x-python",
   "name": "python",
   "nbconvert_exporter": "python",
   "pygments_lexer": "ipython3",
   "version": "3.9.13"
  }
 },
 "nbformat": 4,
 "nbformat_minor": 5
}
